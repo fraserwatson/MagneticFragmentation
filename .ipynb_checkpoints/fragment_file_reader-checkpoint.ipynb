{
 "cells": [
  {
   "cell_type": "code",
   "execution_count": null,
   "metadata": {
    "collapsed": true
   },
   "outputs": [],
   "source": [
    "def fragment_file_reader(file):\n",
    "    \n",
    "    # This function takes a file containing fragment data for a single\n",
    "    # image and reads out the data into arrays of the correct format.\n",
    "    # If the write_props function is changed to add more properties to the files,\n",
    "    # this function has to be changed to read those files.\n",
    "    \n",
    "    import csv\n",
    "    from datetime import datetime\n",
    "\n",
    "    # Initialize variables for dates, latitudes, and longitudes\n",
    "    dates = []\n",
    "    latitudes = []\n",
    "    longitudes = []\n",
    "    area = []\n",
    "    eccentricity = []\n",
    "    bbox_min_row = []\n",
    "    bbox_min_col = []\n",
    "    bbox_max_row = []\n",
    "    bbox_max_col = []\n",
    "    area_bbox = []\n",
    "    cen_bbox_row = []\n",
    "    cen_bbox_col = []\n",
    "    flux = []\n",
    "    min_flux = []\n",
    "    mean_flux = []\n",
    "    max_flux = []\n",
    "\n",
    "    # Open file and return arrays for dates (as datetime), latitudes (as float) and longitudes (as float)\n",
    "    with open(file, 'r') as csvfile:\n",
    "        filereader = csv.reader(csvfile, delimiter=',')\n",
    "        for row in filereader:\n",
    "            dates.append(datetime.strptime(row[0][0:19], '%Y-%m-%d %H:%M:%S'))\n",
    "            latitudes.append(float(row[1]))\n",
    "            longitudes.append(float(row[2]))\n",
    "            area.append(float(row[3]))\n",
    "            eccentricity.append(float(row[4]))\n",
    "            bbox_min_row.append(int(row[5]))\n",
    "            bbox_min_col.append(int(row[6]))\n",
    "            bbox_max_row.append(int(row[7]))\n",
    "            bbox_max_col.append(int(row[8]))\n",
    "            area_bbox.append(int(row[9]))\n",
    "            cen_bbox_row.append(float(row[10]))\n",
    "            cen_bbox_col.append(float(row[11]))\n",
    "            flux.append(float(row[12]))\n",
    "            min_flux.append(float(row[13]))\n",
    "            mean_flux.append(float(row[14]))\n",
    "            max_flux.append(float(row[15]))\n",
    "    \n",
    "    return [dates, latitudes, longitudes, area, eccentricity, bbox_min_row, bbox_min_col, bbox_max_row, \n",
    "            bbox_max_col, area_bbox, cen_bbox_row, cen_bbox_col, flux, min_flux,\n",
    "            mean_flux, max_flux]"
   ]
  }
 ],
 "metadata": {
  "kernelspec": {
   "display_name": "Python 3",
   "language": "python",
   "name": "python3"
  },
  "language_info": {
   "codemirror_mode": {
    "name": "ipython",
    "version": 3
   },
   "file_extension": ".py",
   "mimetype": "text/x-python",
   "name": "python",
   "nbconvert_exporter": "python",
   "pygments_lexer": "ipython3",
   "version": "3.5.4"
  }
 },
 "nbformat": 4,
 "nbformat_minor": 2
}
