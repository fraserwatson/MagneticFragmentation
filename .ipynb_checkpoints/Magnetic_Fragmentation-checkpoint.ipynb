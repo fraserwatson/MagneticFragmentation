{
 "cells": [
  {
   "cell_type": "markdown",
   "metadata": {},
   "source": [
    "Import required modules and set up matplotlib display properties. Set up variables."
   ]
  },
  {
   "cell_type": "code",
   "execution_count": 1,
   "metadata": {},
   "outputs": [],
   "source": [
    "# astropy.units allows us to use physical units throughout the code and easily\n",
    "# perform calculations on them\n",
    "import astropy.units as u\n",
    "# sunpy.map handles the coordinates of the data we are using\n",
    "import sunpy.map\n",
    "from sunpy.coordinates import frames\n",
    "# numpy is a package that makes handling arrays much easier\n",
    "import numpy as np\n",
    "# The SkyCoord object lets us convert between astronomical coordinate systems\n",
    "from astropy.coordinates import SkyCoord\n",
    "# matplotlib.pyplot is the standard plotting tool in python\n",
    "import matplotlib.pyplot as plt\n",
    "# skimage.measure performs the fragmentation\n",
    "import skimage.measure as ms\n",
    "# os is a library of operating system functions that we use to get filepaths\n",
    "import os\n",
    "# The next three imports are functions written just for this purpose\n",
    "from split_pol_thresh import split_pol_thresh\n",
    "from find_regions import find_regions\n",
    "from write_props import write_props\n",
    "from rotate_long import rotate_long\n",
    "from window_corner_rotation import window_corner_rotation\n",
    "%matplotlib inline\n",
    "plt.rcParams['figure.figsize'] = 12, 10\n",
    "plt.rcParams.update({'font.size': 22})\n",
    "\n",
    "# Choose threshold. Magnetic fields under this level (Gauss) will be ignored\n",
    "threshold = 250  # Gauss\n",
    "\n",
    "# Choose the initial observation window using solar coordinates (in arcsecs from disk centre)\n",
    "bottom_left = [-120, -50]\n",
    "top_right = [120, -230]\n",
    "\n",
    "datapath = '/Users/fraser/Data/HMImag/20140323/'  # location of the input data files\n",
    "bulk_region_props_path = '/Users/fraser/Github/MagneticFragmentationOutput/fragment_properties/bulk_props.txt'"
   ]
  },
  {
   "cell_type": "markdown",
   "metadata": {},
   "source": [
    "Load magnetogram paths."
   ]
  },
  {
   "cell_type": "code",
   "execution_count": 2,
   "metadata": {},
   "outputs": [],
   "source": [
    "# Get the full filepath of the magnetograms we will be using\n",
    "files_to_load = os.listdir(datapath)\n",
    "\n",
    "filename = datapath + files_to_load[0]\n",
    "data = sunpy.map.Map(filename)\n",
    "initial_obs_time = data.date\n",
    "\n",
    "bl = SkyCoord(bottom_left[0] * u.arcsec,\n",
    "              bottom_left[1] * u.arcsec,\n",
    "              frame=frames.Helioprojective,\n",
    "              obstime=initial_obs_time)  # bl is bottom left corner\n",
    "tr = SkyCoord(top_right[0] * u.arcsec,\n",
    "              top_right[1] * u.arcsec,\n",
    "              frame=frames.Helioprojective,\n",
    "              obstime=initial_obs_time)   # tr is top right corner\n",
    "bl_stonyhurst = bl.transform_to(frames.HeliographicStonyhurst)\n",
    "tr_stonyhurst = tr.transform_to(frames.HeliographicStonyhurst)"
   ]
  },
  {
   "cell_type": "markdown",
   "metadata": {},
   "source": [
    "Loop over files to find fragments and create text document that represents the properties of fragments in each image file."
   ]
  },
  {
   "cell_type": "code",
   "execution_count": 3,
   "metadata": {
    "scrolled": true
   },
   "outputs": [
    {
     "ename": "KeyboardInterrupt",
     "evalue": "",
     "output_type": "error",
     "traceback": [
      "\u001b[0;31m---------------------------------------------------------------------------\u001b[0m",
      "\u001b[0;31mKeyboardInterrupt\u001b[0m                         Traceback (most recent call last)",
      "\u001b[0;32m<ipython-input-3-f928cc70ccb4>\u001b[0m in \u001b[0;36m<module>\u001b[0;34m()\u001b[0m\n\u001b[1;32m     53\u001b[0m     \u001b[0;31m# do so in the 'write_props' function\u001b[0m\u001b[0;34m\u001b[0m\u001b[0;34m\u001b[0m\u001b[0m\n\u001b[1;32m     54\u001b[0m     \u001b[0mwrite_props\u001b[0m\u001b[0;34m(\u001b[0m\u001b[0mpos_properties\u001b[0m\u001b[0;34m,\u001b[0m \u001b[0;34m'p'\u001b[0m\u001b[0;34m,\u001b[0m \u001b[0mimage\u001b[0m\u001b[0;34m,\u001b[0m \u001b[0mdata\u001b[0m\u001b[0;34m.\u001b[0m\u001b[0mdate\u001b[0m\u001b[0;34m,\u001b[0m \u001b[0mpos_submap_area\u001b[0m\u001b[0;34m,\u001b[0m \u001b[0mbulk_region_props_path\u001b[0m\u001b[0;34m)\u001b[0m\u001b[0;34m\u001b[0m\u001b[0m\n\u001b[0;32m---> 55\u001b[0;31m     \u001b[0mwrite_props\u001b[0m\u001b[0;34m(\u001b[0m\u001b[0mneg_properties\u001b[0m\u001b[0;34m,\u001b[0m \u001b[0;34m'n'\u001b[0m\u001b[0;34m,\u001b[0m \u001b[0mimage\u001b[0m\u001b[0;34m,\u001b[0m \u001b[0mdata\u001b[0m\u001b[0;34m.\u001b[0m\u001b[0mdate\u001b[0m\u001b[0;34m,\u001b[0m \u001b[0mneg_submap_area\u001b[0m\u001b[0;34m,\u001b[0m \u001b[0mbulk_region_props_path\u001b[0m\u001b[0;34m)\u001b[0m\u001b[0;34m\u001b[0m\u001b[0m\n\u001b[0m\u001b[1;32m     56\u001b[0m \u001b[0;34m\u001b[0m\u001b[0m\n\u001b[1;32m     57\u001b[0m     \u001b[0mpos_submap_area\u001b[0m\u001b[0;34m.\u001b[0m\u001b[0mplot\u001b[0m\u001b[0;34m(\u001b[0m\u001b[0;34m)\u001b[0m\u001b[0;34m\u001b[0m\u001b[0m\n",
      "\u001b[0;32m~/Github/MagneticFragmentation/write_props.py\u001b[0m in \u001b[0;36mwrite_props\u001b[0;34m(props, polarity, image_num, image_date, submap, bulk_path)\u001b[0m\n\u001b[1;32m     34\u001b[0m             \u001b[0;31m# Now convert the coordinates to Heliographic latitude and longitude as\u001b[0m\u001b[0;34m\u001b[0m\u001b[0;34m\u001b[0m\u001b[0m\n\u001b[1;32m     35\u001b[0m             \u001b[0;31m# that is what we need to rotate coordinates in time later on\u001b[0m\u001b[0;34m\u001b[0m\u001b[0;34m\u001b[0m\u001b[0m\n\u001b[0;32m---> 36\u001b[0;31m             \u001b[0mlatlong_coord\u001b[0m \u001b[0;34m=\u001b[0m \u001b[0marcsecs_coord\u001b[0m\u001b[0;34m.\u001b[0m\u001b[0mtransform_to\u001b[0m\u001b[0;34m(\u001b[0m\u001b[0mframes\u001b[0m\u001b[0;34m.\u001b[0m\u001b[0mHeliographicStonyhurst\u001b[0m\u001b[0;34m)\u001b[0m\u001b[0;34m\u001b[0m\u001b[0m\n\u001b[0m\u001b[1;32m     37\u001b[0m             \u001b[0;31m# Record the area in 10^6 sqkm (1 pixel at disk centre is 1.31 million square km) deprojected to disk centre\u001b[0m\u001b[0;34m\u001b[0m\u001b[0;34m\u001b[0m\u001b[0m\n\u001b[1;32m     38\u001b[0m             \u001b[0marea\u001b[0m \u001b[0;34m=\u001b[0m \u001b[0mregion\u001b[0m\u001b[0;34m.\u001b[0m\u001b[0marea\u001b[0m \u001b[0;34m*\u001b[0m \u001b[0;36m1.31\u001b[0m \u001b[0;34m*\u001b[0m \u001b[0mnp\u001b[0m\u001b[0;34m.\u001b[0m\u001b[0mcos\u001b[0m\u001b[0;34m(\u001b[0m\u001b[0mnp\u001b[0m\u001b[0;34m.\u001b[0m\u001b[0mdeg2rad\u001b[0m\u001b[0;34m(\u001b[0m\u001b[0mlatlong_coord\u001b[0m\u001b[0;34m.\u001b[0m\u001b[0mlat\u001b[0m\u001b[0;34m.\u001b[0m\u001b[0mvalue\u001b[0m\u001b[0;34m)\u001b[0m\u001b[0;34m)\u001b[0m \u001b[0;34m*\u001b[0m \u001b[0mnp\u001b[0m\u001b[0;34m.\u001b[0m\u001b[0mcos\u001b[0m\u001b[0;34m(\u001b[0m\u001b[0mnp\u001b[0m\u001b[0;34m.\u001b[0m\u001b[0mdeg2rad\u001b[0m\u001b[0;34m(\u001b[0m\u001b[0mlatlong_coord\u001b[0m\u001b[0;34m.\u001b[0m\u001b[0mlon\u001b[0m\u001b[0;34m.\u001b[0m\u001b[0mvalue\u001b[0m\u001b[0;34m)\u001b[0m\u001b[0;34m)\u001b[0m\u001b[0;34m\u001b[0m\u001b[0m\n",
      "\u001b[0;32m~/anaconda/lib/python3.5/site-packages/astropy/coordinates/sky_coordinate.py\u001b[0m in \u001b[0;36mtransform_to\u001b[0;34m(self, frame, merge_attributes)\u001b[0m\n\u001b[1;32m    479\u001b[0m         \u001b[0;31m# Do the transformation, returning a coordinate frame of the desired\u001b[0m\u001b[0;34m\u001b[0m\u001b[0;34m\u001b[0m\u001b[0m\n\u001b[1;32m    480\u001b[0m         \u001b[0;31m# final type (not generic).\u001b[0m\u001b[0;34m\u001b[0m\u001b[0;34m\u001b[0m\u001b[0m\n\u001b[0;32m--> 481\u001b[0;31m         \u001b[0mnew_coord\u001b[0m \u001b[0;34m=\u001b[0m \u001b[0mtrans\u001b[0m\u001b[0;34m(\u001b[0m\u001b[0mself\u001b[0m\u001b[0;34m.\u001b[0m\u001b[0mframe\u001b[0m\u001b[0;34m,\u001b[0m \u001b[0mgeneric_frame\u001b[0m\u001b[0;34m)\u001b[0m\u001b[0;34m\u001b[0m\u001b[0m\n\u001b[0m\u001b[1;32m    482\u001b[0m \u001b[0;34m\u001b[0m\u001b[0m\n\u001b[1;32m    483\u001b[0m         \u001b[0;31m# Finally make the new SkyCoord object from the `new_coord` and\u001b[0m\u001b[0;34m\u001b[0m\u001b[0;34m\u001b[0m\u001b[0m\n",
      "\u001b[0;32m~/anaconda/lib/python3.5/site-packages/astropy/coordinates/transformations.py\u001b[0m in \u001b[0;36m__call__\u001b[0;34m(self, fromcoord, toframe)\u001b[0m\n\u001b[1;32m   1312\u001b[0m \u001b[0;34m\u001b[0m\u001b[0m\n\u001b[1;32m   1313\u001b[0m             \u001b[0mcurr_toframe\u001b[0m \u001b[0;34m=\u001b[0m \u001b[0mt\u001b[0m\u001b[0;34m.\u001b[0m\u001b[0mtosys\u001b[0m\u001b[0;34m(\u001b[0m\u001b[0;34m**\u001b[0m\u001b[0mfrattrs\u001b[0m\u001b[0;34m)\u001b[0m\u001b[0;34m\u001b[0m\u001b[0m\n\u001b[0;32m-> 1314\u001b[0;31m             \u001b[0mcurr_coord\u001b[0m \u001b[0;34m=\u001b[0m \u001b[0mt\u001b[0m\u001b[0;34m(\u001b[0m\u001b[0mcurr_coord\u001b[0m\u001b[0;34m,\u001b[0m \u001b[0mcurr_toframe\u001b[0m\u001b[0;34m)\u001b[0m\u001b[0;34m\u001b[0m\u001b[0m\n\u001b[0m\u001b[1;32m   1315\u001b[0m \u001b[0;34m\u001b[0m\u001b[0m\n\u001b[1;32m   1316\u001b[0m         \u001b[0;31m# this is safe even in the case where self.transforms is empty, because\u001b[0m\u001b[0;34m\u001b[0m\u001b[0;34m\u001b[0m\u001b[0m\n",
      "\u001b[0;32m~/anaconda/lib/python3.5/site-packages/astropy/coordinates/transformations.py\u001b[0m in \u001b[0;36m__call__\u001b[0;34m(self, fromcoord, toframe)\u001b[0m\n\u001b[1;32m    747\u001b[0m \u001b[0;34m\u001b[0m\u001b[0m\n\u001b[1;32m    748\u001b[0m     \u001b[0;32mdef\u001b[0m \u001b[0m__call__\u001b[0m\u001b[0;34m(\u001b[0m\u001b[0mself\u001b[0m\u001b[0;34m,\u001b[0m \u001b[0mfromcoord\u001b[0m\u001b[0;34m,\u001b[0m \u001b[0mtoframe\u001b[0m\u001b[0;34m)\u001b[0m\u001b[0;34m:\u001b[0m\u001b[0;34m\u001b[0m\u001b[0m\n\u001b[0;32m--> 749\u001b[0;31m         \u001b[0mres\u001b[0m \u001b[0;34m=\u001b[0m \u001b[0mself\u001b[0m\u001b[0;34m.\u001b[0m\u001b[0mfunc\u001b[0m\u001b[0;34m(\u001b[0m\u001b[0mfromcoord\u001b[0m\u001b[0;34m,\u001b[0m \u001b[0mtoframe\u001b[0m\u001b[0;34m)\u001b[0m\u001b[0;34m\u001b[0m\u001b[0m\n\u001b[0m\u001b[1;32m    750\u001b[0m         \u001b[0;32mif\u001b[0m \u001b[0;32mnot\u001b[0m \u001b[0misinstance\u001b[0m\u001b[0;34m(\u001b[0m\u001b[0mres\u001b[0m\u001b[0;34m,\u001b[0m \u001b[0mself\u001b[0m\u001b[0;34m.\u001b[0m\u001b[0mtosys\u001b[0m\u001b[0;34m)\u001b[0m\u001b[0;34m:\u001b[0m\u001b[0;34m\u001b[0m\u001b[0m\n\u001b[1;32m    751\u001b[0m             raise TypeError('the transformation function yielded {0} but '\n",
      "\u001b[0;32m~/anaconda/lib/python3.5/site-packages/sunpy/coordinates/transformations.py\u001b[0m in \u001b[0;36mhcc_to_hgs\u001b[0;34m(helioccoord, heliogframe)\u001b[0m\n\u001b[1;32m    156\u001b[0m                            \"without `obstime` being specified.\".format(helioccoord.observer))\n\u001b[1;32m    157\u001b[0m \u001b[0;34m\u001b[0m\u001b[0m\n\u001b[0;32m--> 158\u001b[0;31m     \u001b[0mx\u001b[0m \u001b[0;34m=\u001b[0m \u001b[0mhelioccoord\u001b[0m\u001b[0;34m.\u001b[0m\u001b[0mx\u001b[0m\u001b[0;34m.\u001b[0m\u001b[0mto\u001b[0m\u001b[0;34m(\u001b[0m\u001b[0mu\u001b[0m\u001b[0;34m.\u001b[0m\u001b[0mm\u001b[0m\u001b[0;34m)\u001b[0m\u001b[0;34m\u001b[0m\u001b[0m\n\u001b[0m\u001b[1;32m    159\u001b[0m     \u001b[0my\u001b[0m \u001b[0;34m=\u001b[0m \u001b[0mhelioccoord\u001b[0m\u001b[0;34m.\u001b[0m\u001b[0my\u001b[0m\u001b[0;34m.\u001b[0m\u001b[0mto\u001b[0m\u001b[0;34m(\u001b[0m\u001b[0mu\u001b[0m\u001b[0;34m.\u001b[0m\u001b[0mm\u001b[0m\u001b[0;34m)\u001b[0m\u001b[0;34m\u001b[0m\u001b[0m\n\u001b[1;32m    160\u001b[0m     \u001b[0mz\u001b[0m \u001b[0;34m=\u001b[0m \u001b[0mhelioccoord\u001b[0m\u001b[0;34m.\u001b[0m\u001b[0mz\u001b[0m\u001b[0;34m.\u001b[0m\u001b[0mto\u001b[0m\u001b[0;34m(\u001b[0m\u001b[0mu\u001b[0m\u001b[0;34m.\u001b[0m\u001b[0mm\u001b[0m\u001b[0;34m)\u001b[0m\u001b[0;34m\u001b[0m\u001b[0m\n",
      "\u001b[0;32m~/anaconda/lib/python3.5/site-packages/astropy/coordinates/baseframe.py\u001b[0m in \u001b[0;36m__getattr__\u001b[0;34m(self, attr)\u001b[0m\n\u001b[1;32m   1216\u001b[0m             \u001b[0;32mreturn\u001b[0m \u001b[0mself\u001b[0m\u001b[0;34m.\u001b[0m\u001b[0m__getattribute__\u001b[0m\u001b[0;34m(\u001b[0m\u001b[0mattr\u001b[0m\u001b[0;34m)\u001b[0m  \u001b[0;31m# Raise AttributeError.\u001b[0m\u001b[0;34m\u001b[0m\u001b[0m\n\u001b[1;32m   1217\u001b[0m \u001b[0;34m\u001b[0m\u001b[0m\n\u001b[0;32m-> 1218\u001b[0;31m         \u001b[0mrepr_names\u001b[0m \u001b[0;34m=\u001b[0m \u001b[0mself\u001b[0m\u001b[0;34m.\u001b[0m\u001b[0mrepresentation_component_names\u001b[0m\u001b[0;34m\u001b[0m\u001b[0m\n\u001b[0m\u001b[1;32m   1219\u001b[0m         \u001b[0;32mif\u001b[0m \u001b[0mattr\u001b[0m \u001b[0;32min\u001b[0m \u001b[0mrepr_names\u001b[0m\u001b[0;34m:\u001b[0m\u001b[0;34m\u001b[0m\u001b[0m\n\u001b[1;32m   1220\u001b[0m             \u001b[0;32mif\u001b[0m \u001b[0mself\u001b[0m\u001b[0;34m.\u001b[0m\u001b[0m_data\u001b[0m \u001b[0;32mis\u001b[0m \u001b[0;32mNone\u001b[0m\u001b[0;34m:\u001b[0m\u001b[0;34m\u001b[0m\u001b[0m\n",
      "\u001b[0;32m~/anaconda/lib/python3.5/site-packages/astropy/coordinates/baseframe.py\u001b[0m in \u001b[0;36mget_representation_component_names\u001b[0;34m(self, which)\u001b[0m\n\u001b[1;32m    623\u001b[0m             \u001b[0;32mreturn\u001b[0m \u001b[0mout\u001b[0m\u001b[0;34m\u001b[0m\u001b[0m\n\u001b[1;32m    624\u001b[0m         \u001b[0mdata_names\u001b[0m \u001b[0;34m=\u001b[0m \u001b[0mrepr_or_diff_cls\u001b[0m\u001b[0;34m.\u001b[0m\u001b[0mattr_classes\u001b[0m\u001b[0;34m.\u001b[0m\u001b[0mkeys\u001b[0m\u001b[0;34m(\u001b[0m\u001b[0;34m)\u001b[0m\u001b[0;34m\u001b[0m\u001b[0m\n\u001b[0;32m--> 625\u001b[0;31m         \u001b[0mrepr_names\u001b[0m \u001b[0;34m=\u001b[0m \u001b[0mself\u001b[0m\u001b[0;34m.\u001b[0m\u001b[0mrepresentation_info\u001b[0m\u001b[0;34m[\u001b[0m\u001b[0mrepr_or_diff_cls\u001b[0m\u001b[0;34m]\u001b[0m\u001b[0;34m[\u001b[0m\u001b[0;34m'names'\u001b[0m\u001b[0;34m]\u001b[0m\u001b[0;34m\u001b[0m\u001b[0m\n\u001b[0m\u001b[1;32m    626\u001b[0m         \u001b[0;32mfor\u001b[0m \u001b[0mrepr_name\u001b[0m\u001b[0;34m,\u001b[0m \u001b[0mdata_name\u001b[0m \u001b[0;32min\u001b[0m \u001b[0mzip\u001b[0m\u001b[0;34m(\u001b[0m\u001b[0mrepr_names\u001b[0m\u001b[0;34m,\u001b[0m \u001b[0mdata_names\u001b[0m\u001b[0;34m)\u001b[0m\u001b[0;34m:\u001b[0m\u001b[0;34m\u001b[0m\u001b[0m\n\u001b[1;32m    627\u001b[0m             \u001b[0mout\u001b[0m\u001b[0;34m[\u001b[0m\u001b[0mrepr_name\u001b[0m\u001b[0;34m]\u001b[0m \u001b[0;34m=\u001b[0m \u001b[0mdata_name\u001b[0m\u001b[0;34m\u001b[0m\u001b[0m\n",
      "\u001b[0;32m~/anaconda/lib/python3.5/site-packages/astropy/coordinates/baseframe.py\u001b[0m in \u001b[0;36mrepresentation_info\u001b[0;34m(self)\u001b[0m\n\u001b[1;32m    615\u001b[0m         \u001b[0mapply\u001b[0m \u001b[0mto\u001b[0m \u001b[0mparticular\u001b[0m \u001b[0mrepresentations\u001b[0m\u001b[0;34m.\u001b[0m\u001b[0;34m\u001b[0m\u001b[0m\n\u001b[1;32m    616\u001b[0m         \"\"\"\n\u001b[0;32m--> 617\u001b[0;31m         \u001b[0;32mreturn\u001b[0m \u001b[0mself\u001b[0m\u001b[0;34m.\u001b[0m\u001b[0m_get_representation_info\u001b[0m\u001b[0;34m(\u001b[0m\u001b[0;34m)\u001b[0m\u001b[0;34m\u001b[0m\u001b[0m\n\u001b[0m\u001b[1;32m    618\u001b[0m \u001b[0;34m\u001b[0m\u001b[0m\n\u001b[1;32m    619\u001b[0m     \u001b[0;32mdef\u001b[0m \u001b[0mget_representation_component_names\u001b[0m\u001b[0;34m(\u001b[0m\u001b[0mself\u001b[0m\u001b[0;34m,\u001b[0m \u001b[0mwhich\u001b[0m\u001b[0;34m=\u001b[0m\u001b[0;34m'base'\u001b[0m\u001b[0;34m)\u001b[0m\u001b[0;34m:\u001b[0m\u001b[0;34m\u001b[0m\u001b[0m\n",
      "\u001b[0;32m~/anaconda/lib/python3.5/site-packages/astropy/coordinates/baseframe.py\u001b[0m in \u001b[0;36m_get_representation_info\u001b[0;34m(cls)\u001b[0m\n\u001b[1;32m    591\u001b[0m             \u001b[0muns\u001b[0m \u001b[0;34m=\u001b[0m \u001b[0mrepr_attrs\u001b[0m\u001b[0;34m[\u001b[0m\u001b[0mrepr_diff_cls\u001b[0m\u001b[0;34m]\u001b[0m\u001b[0;34m[\u001b[0m\u001b[0;34m'units'\u001b[0m\u001b[0;34m]\u001b[0m\u001b[0;34m\u001b[0m\u001b[0m\n\u001b[1;32m    592\u001b[0m             \u001b[0mcomptomap\u001b[0m \u001b[0;34m=\u001b[0m \u001b[0mdict\u001b[0m\u001b[0;34m(\u001b[0m\u001b[0;34m[\u001b[0m\u001b[0;34m(\u001b[0m\u001b[0mm\u001b[0m\u001b[0;34m.\u001b[0m\u001b[0mreprname\u001b[0m\u001b[0;34m,\u001b[0m \u001b[0mm\u001b[0m\u001b[0;34m)\u001b[0m \u001b[0;32mfor\u001b[0m \u001b[0mm\u001b[0m \u001b[0;32min\u001b[0m \u001b[0mmappings\u001b[0m\u001b[0;34m]\u001b[0m\u001b[0;34m)\u001b[0m\u001b[0;34m\u001b[0m\u001b[0m\n\u001b[0;32m--> 593\u001b[0;31m             \u001b[0;32mfor\u001b[0m \u001b[0mi\u001b[0m\u001b[0;34m,\u001b[0m \u001b[0mc\u001b[0m \u001b[0;32min\u001b[0m \u001b[0menumerate\u001b[0m\u001b[0;34m(\u001b[0m\u001b[0mrepr_diff_cls\u001b[0m\u001b[0;34m.\u001b[0m\u001b[0mattr_classes\u001b[0m\u001b[0;34m.\u001b[0m\u001b[0mkeys\u001b[0m\u001b[0;34m(\u001b[0m\u001b[0;34m)\u001b[0m\u001b[0;34m)\u001b[0m\u001b[0;34m:\u001b[0m\u001b[0;34m\u001b[0m\u001b[0m\n\u001b[0m\u001b[1;32m    594\u001b[0m                 \u001b[0;32mif\u001b[0m \u001b[0mc\u001b[0m \u001b[0;32min\u001b[0m \u001b[0mcomptomap\u001b[0m\u001b[0;34m:\u001b[0m\u001b[0;34m\u001b[0m\u001b[0m\n\u001b[1;32m    595\u001b[0m                     \u001b[0mmapp\u001b[0m \u001b[0;34m=\u001b[0m \u001b[0mcomptomap\u001b[0m\u001b[0;34m[\u001b[0m\u001b[0mc\u001b[0m\u001b[0;34m]\u001b[0m\u001b[0;34m\u001b[0m\u001b[0m\n",
      "\u001b[0;31mKeyboardInterrupt\u001b[0m: "
     ]
    },
    {
     "data": {
      "text/plain": [
       "<matplotlib.figure.Figure at 0x1219bb0b8>"
      ]
     },
     "metadata": {},
     "output_type": "display_data"
    }
   ],
   "source": [
    "# For each image...\n",
    "for image in range(len(files_to_load)):\n",
    "    # Create the full filepath of the FITS file\n",
    "    filename = datapath + files_to_load[image]\n",
    "\n",
    "    # Pull out the data into a SunPy map\n",
    "    data = sunpy.map.Map(filename)\n",
    "    \n",
    "    # Transform the initial window coordinates into lat/long coordinates at the time of this image\n",
    "    # Calculate the timedelta from the original image in days\n",
    "    timedelta = (data.date - initial_obs_time).total_seconds()/86400\n",
    "    [bl, tr] = window_corner_rotation(bl_stonyhurst, tr_stonyhurst, timedelta, data.date)    \n",
    "    \n",
    "    # Create a submap using those coordinates\n",
    "    # We are creating two submaps that are identical because from\n",
    "    # this point on, all positive polarity data will be split from\n",
    "    # negative polarity data\n",
    "    pos_submap_area = data.submap(bl, tr)\n",
    "    neg_submap_area = data.submap(bl, tr)\n",
    "\n",
    "    # Set all of the edge pixels in the submaps to zero. This stops\n",
    "    # errors in the 'find_regions' function\n",
    "    neg_submap_area_data = np.array(neg_submap_area.data)\n",
    "    neg_submap_area_data = np.pad(neg_submap_area_data, ((1, 1), (1, 1)), 'constant', constant_values=(0, 0))\n",
    "    pos_submap_area_data = np.array(pos_submap_area.data)\n",
    "    pos_submap_area_data = np.pad(pos_submap_area_data, ((1, 1), (1, 1)), 'constant', constant_values=(0, 0))\n",
    "    \n",
    "    # Strip out all negative data in the positive submap, and vice versa\n",
    "    pos_submap_data = split_pol_thresh(pos_submap_area_data, threshold, 'pos')\n",
    "    neg_submap_data = split_pol_thresh(neg_submap_area_data, threshold, 'neg')\n",
    "      \n",
    "    # Find the regions in the positive and negative magnetogram data\n",
    "    pos_region_frame, num_pos_regions = find_regions(pos_submap_data)\n",
    "    neg_region_frame, num_neg_regions = find_regions(neg_submap_data)\n",
    "\n",
    "    # Convert the data into label frames that scikit-image can use\n",
    "    pos_labeled_frame, pos_num_labels = ms.label(pos_region_frame.astype(int),\n",
    "                                                 return_num=True,\n",
    "                                                 connectivity=2)\n",
    "    neg_labeled_frame, neg_num_labels = ms.label(neg_region_frame.astype(int),\n",
    "                                                 return_num=True,\n",
    "                                                 connectivity=2)\n",
    "\n",
    "    # Use the scikit-image method 'regionprops' to get various properties on\n",
    "    # the fragments in the image data\n",
    "    pos_properties = ms.regionprops(pos_labeled_frame,\n",
    "                                    intensity_image=pos_submap_area.data)\n",
    "    neg_properties = ms.regionprops(neg_labeled_frame,\n",
    "                                    intensity_image=neg_submap_area.data)\n",
    "        \n",
    "\n",
    "    # Write the properties to files. Note that to add new properties,\n",
    "    # do so in the 'write_props' function\n",
    "    write_props(pos_properties, 'p', image, data.date, pos_submap_area, bulk_region_props_path)\n",
    "    write_props(neg_properties, 'n', image, data.date, neg_submap_area, bulk_region_props_path)\n",
    "    \n",
    "    pos_submap_area.plot()\n",
    "    imagefilename = '/Users/fraser/Github/MagneticFragmentationOutput/fragment_properties/' + 'HMI' + str(image).zfill(4)\n",
    "    plt.savefig(imagefilename)\n",
    "    plt.clf()"
   ]
  }
 ],
 "metadata": {
  "kernelspec": {
   "display_name": "Python 3",
   "language": "python",
   "name": "python3"
  },
  "language_info": {
   "codemirror_mode": {
    "name": "ipython",
    "version": 3
   },
   "file_extension": ".py",
   "mimetype": "text/x-python",
   "name": "python",
   "nbconvert_exporter": "python",
   "pygments_lexer": "ipython3",
   "version": "3.5.4"
  }
 },
 "nbformat": 4,
 "nbformat_minor": 1
}
