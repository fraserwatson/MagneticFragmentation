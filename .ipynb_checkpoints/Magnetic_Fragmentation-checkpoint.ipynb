{
 "cells": [
  {
   "cell_type": "markdown",
   "metadata": {},
   "source": [
    "Import required modules and set up matplotlib display properties. Set up variables."
   ]
  },
  {
   "cell_type": "code",
   "execution_count": 1,
   "metadata": {
    "collapsed": true
   },
   "outputs": [],
   "source": [
    "# astropy.units allows us to use physical units throughout the code and easily perform calculations on them\n",
    "import astropy.units as u\n",
    "# sunpy.map handles the coordinates of the data we are using so we don't have to\n",
    "import sunpy.map\n",
    "# numpy is a package that makes handling arrays much easier\n",
    "import numpy as np\n",
    "# The SkyCoord object lets us convert between astronomical coordinate systems easily\n",
    "from astropy.coordinates import SkyCoord\n",
    "# matplotlib.pyplot is the standard plotting tool in python\n",
    "import matplotlib.pyplot as plt\n",
    "# skimage.measure performs the fragmentation\n",
    "import skimage.measure as ms\n",
    "# os is a library of operating system functions that we use to get filepaths\n",
    "import os\n",
    "# The next three imports are functions written just for this purpose\n",
    "from split_pol_thresh import split_pol_thresh\n",
    "from find_regions import find_regions\n",
    "from write_props import write_props\n",
    "# The next three lines are for plotting in a Jupyter notebook\n",
    "%matplotlib notebook\n",
    "plt.rcParams['figure.figsize'] = 11, 11\n",
    "plt.rcParams.update({'font.size': 12})\n",
    "\n",
    "# Choose threshold. Any magnetic fields under this level (in Gauss) will be ignored.\n",
    "threshold = 250 # Gauss\n",
    "datapath = '/Users/fraser/Data/HMImag/' #location of the input data files"
   ]
  },
  {
   "cell_type": "markdown",
   "metadata": {},
   "source": [
    "Load magnetogram paths."
   ]
  },
  {
   "cell_type": "code",
   "execution_count": 2,
   "metadata": {
    "collapsed": true
   },
   "outputs": [],
   "source": [
    "# Get the full filepath of the magnetograms we will be using\n",
    "files_to_load = os.listdir(datapath)"
   ]
  },
  {
   "cell_type": "markdown",
   "metadata": {},
   "source": [
    "Loop over files to find fragments and create text document that represents the properties of fragments in each image file."
   ]
  },
  {
   "cell_type": "code",
   "execution_count": 3,
   "metadata": {
    "collapsed": true
   },
   "outputs": [],
   "source": [
    "# For each image...\n",
    "for image in range(len(files_to_load)):\n",
    "    # Create the full filepath of the FITS file\n",
    "    filename = datapath + files_to_load[image]\n",
    "    \n",
    "    # Pull out the data into a SunPy map\n",
    "    data = sunpy.map.Map(filename)\n",
    "    \n",
    "    # Choose which part of the image we want to look at using solar coordinates (in arcsecs from disk centre)\n",
    "    bl = SkyCoord(-590 * u.arcsec, -342 * u.arcsec) # bl is bottom left corner\n",
    "    tr = SkyCoord(-225 * u.arcsec, -90 * u.arcsec)  # tr is top right corner\n",
    "    \n",
    "    # Create a submap using those coordinates\n",
    "    # We are creating two submaps that are identical because from this point on, all positive polarity data will\n",
    "    # be split from negative polarity data\n",
    "    pos_submap_area = data.submap(bl, tr)\n",
    "    neg_submap_area = data.submap(bl, tr)\n",
    "    \n",
    "    # Set all of the edge pixels in the submaps to zero. This stops errors in the 'find_regions' function\n",
    "    pos_submap_area.data[0][:] = 0\n",
    "    pos_submap_area.data[-1][:] = 0\n",
    "    pos_submap_area.data[:][0] = 0\n",
    "    pos_submap_area.data[:][-1] =0\n",
    "    neg_submap_area.data[0][:] = 0\n",
    "    neg_submap_area.data[-1][:] = 0\n",
    "    neg_submap_area.data[:][0] = 0\n",
    "    neg_submap_area.data[:][-1] =0\n",
    "    \n",
    "    # Strip out all negative data in the positive submap, and vice versa\n",
    "    pos_submap_data = split_pol_thresh(pos_submap_area.data, threshold, 'pos')\n",
    "    neg_submap_data = split_pol_thresh(neg_submap_area.data, threshold, 'neg')\n",
    "    \n",
    "    # Find the regions in the positive and negative magnetogram data\n",
    "    pos_region_frame, num_pos_regions = find_regions(pos_submap_data)\n",
    "    neg_region_frame, num_neg_regions = find_regions(neg_submap_data)\n",
    "    \n",
    "    # Convert the data into label frames that scikit-image can use\n",
    "    pos_labeled_frame, pos_num_labels = ms.label(pos_region_frame.astype(int), return_num=True, connectivity=2)\n",
    "    neg_labeled_frame, neg_num_labels = ms.label(neg_region_frame.astype(int), return_num=True, connectivity=2)\n",
    "    \n",
    "    # Use the scikit-image method 'regionprops' to get various properties on the fragments in the image data\n",
    "    pos_properties = ms.regionprops(pos_labeled_frame, intensity_image=pos_submap_area.data)\n",
    "    neg_properties = ms.regionprops(neg_labeled_frame, intensity_image=neg_submap_area.data)\n",
    "    \n",
    "    # Write the properties to files. Note that to add new properties, do so in the 'write_props' function\n",
    "    write_props(pos_properties, 'p', image, data.date, pos_submap_area)\n",
    "    write_props(neg_properties, 'n', image, data.date, neg_submap_area)"
   ]
  }
 ],
 "metadata": {
  "kernelspec": {
   "display_name": "Python 3",
   "language": "python",
   "name": "python3"
  },
  "language_info": {
   "codemirror_mode": {
    "name": "ipython",
    "version": 3
   },
   "file_extension": ".py",
   "mimetype": "text/x-python",
   "name": "python",
   "nbconvert_exporter": "python",
   "pygments_lexer": "ipython3",
   "version": "3.5.3"
  }
 },
 "nbformat": 4,
 "nbformat_minor": 1
}
