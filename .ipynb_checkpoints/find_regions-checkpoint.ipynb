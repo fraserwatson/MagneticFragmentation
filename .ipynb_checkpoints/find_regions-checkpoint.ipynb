{
 "cells": [
  {
   "cell_type": "code",
   "execution_count": 1,
   "metadata": {
    "collapsed": true
   },
   "outputs": [],
   "source": [
    "def find_regions(data):\n",
    "\n",
    "    import numpy as np\n",
    "\n",
    "    # Flatten frame into a 1d array\n",
    "    flat = np.ndarray.flatten(data, 'C')\n",
    "    # Get the index sort of field values\n",
    "    indexorder = np.argsort(flat)[::-1]\n",
    "    # Count how many pixels are above the threshold value\n",
    "    num_pixels = np.count_nonzero(flat)\n",
    "    # Truncate the index array to that length\n",
    "    indexorder = indexorder[0:num_pixels]\n",
    "\n",
    "    # Set up region frame\n",
    "    region_frame = np.zeros(data.shape)\n",
    "\n",
    "    # Initialise region number and data shape\n",
    "    num_regions = 0\n",
    "    rows, cols = data.shape\n",
    "\n",
    "    # For each pixel to be checked...\n",
    "    for index in indexorder:\n",
    "\n",
    "        # ... convert back to 2D indices\n",
    "        row = index // cols\n",
    "        col = index % cols\n",
    "\n",
    "        # Get surrounding region values\n",
    "        regtl = region_frame[row-1, col-1]\n",
    "        regtm = region_frame[row-1, col]\n",
    "        regtr = region_frame[row-1, col+1]\n",
    "        regcl = region_frame[row, col-1]\n",
    "        regcr = region_frame[row, col+1]\n",
    "        regbl = region_frame[row+1, col-1]\n",
    "        regbm = region_frame[row+1, col]\n",
    "        regbr = region_frame[row+1, col+1]\n",
    "\n",
    "        # Create region array\n",
    "        reg_values = [regtl, regtm, regtr, regcl, regcr, regbl, regbm, regbr]\n",
    "\n",
    "        # Assign pixel to region by first checking if any surronding pixels\n",
    "        # belong to a region\n",
    "        if max(reg_values) == 0:\n",
    "            num_regions += 1\n",
    "            region_frame[row, col] = num_regions\n",
    "        else:\n",
    "            reg_values.sort()\n",
    "            reg_values = np.trim_zeros(reg_values)\n",
    "            region_frame[row, col] = min(reg_values)\n",
    "            \n",
    "    # The region_frame array is padded by zeros to a width of one pixel. Return the array without that padding.\n",
    "    return region_frame[1:-1, 1:-1], num_regions\n"
   ]
  }
 ],
 "metadata": {
  "kernelspec": {
   "display_name": "Python 3",
   "language": "python",
   "name": "python3"
  },
  "language_info": {
   "codemirror_mode": {
    "name": "ipython",
    "version": 3
   },
   "file_extension": ".py",
   "mimetype": "text/x-python",
   "name": "python",
   "nbconvert_exporter": "python",
   "pygments_lexer": "ipython3",
   "version": "3.5.4"
  }
 },
 "nbformat": 4,
 "nbformat_minor": 1
}
