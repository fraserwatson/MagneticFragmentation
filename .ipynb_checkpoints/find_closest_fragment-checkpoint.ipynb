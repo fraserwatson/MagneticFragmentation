{
 "cells": [
  {
   "cell_type": "code",
   "execution_count": null,
   "metadata": {
    "collapsed": true
   },
   "outputs": [],
   "source": [
    "def find_closest_fragment(lat_new, long_new, lats_old, longs_old, time_delta):\n",
    "    \n",
    "    from rotate_long import rotate_long\n",
    "    import numpy as np\n",
    "    \n",
    "    # Rotate new coordinate back to the time of the old image\n",
    "    [lat_rot, long_rot] = rotate_long(lat_new, long_new, -time_delta)\n",
    "    \n",
    "    # Calculate distance from each of the old fragments\n",
    "    distances = []\n",
    "    for coord in range(len(lats_old)):\n",
    "        new_coord = np.array([lat_rot, long_rot])\n",
    "        old_coord = np.array([lats_old[coord], longs_old[coord]])\n",
    "        distances.append(np.linalg.norm(new_coord - old_coord))\n",
    "    \n",
    "    return distances"
   ]
  }
 ],
 "metadata": {
  "kernelspec": {
   "display_name": "Python 3",
   "language": "python",
   "name": "python3"
  },
  "language_info": {
   "codemirror_mode": {
    "name": "ipython",
    "version": 3
   },
   "file_extension": ".py",
   "mimetype": "text/x-python",
   "name": "python",
   "nbconvert_exporter": "python",
   "pygments_lexer": "ipython3",
   "version": "3.5.3"
  }
 },
 "nbformat": 4,
 "nbformat_minor": 2
}
