{
 "cells": [
  {
   "cell_type": "code",
   "execution_count": 1,
   "metadata": {
    "collapsed": true
   },
   "outputs": [],
   "source": [
    "def write_props(props, polarity, image_num, image_date, submap):\n",
    "    from astropy.coordinates import SkyCoord\n",
    "    import astropy.units as u\n",
    "    from sunpy.coordinates import frames\n",
    "    \n",
    "    # Create filename using the image_num and polarity\n",
    "    filename = '{num:04d}'.format(num = image_num)+polarity+'.txt'\n",
    "    \n",
    "    # Open filename for writing\n",
    "    f = open(filename, 'w')\n",
    "    \n",
    "    for region in props:\n",
    "        # Get the pixel coordinates from the region.centroid and cast them as pixels in astropy units. Then,\n",
    "        # use the sunpy submap to convert those pixel coordinates to image coordinates (x-arcsecs and y-arcsecs)\n",
    "        arcsecs_coord = submap.pixel_to_world(region.centroid[1] * u.pix, region.centroid[0] * u.pix)\n",
    "        # Now convert the coordinates to Heliographic latitude and longitude as that is what we need to rotate\n",
    "        # coordinates in time later on\n",
    "        latlong_coord = arcsecs_coord.transform_to(frames.HeliographicStonyhurst)\n",
    "        # Record the area (this area is NOT deprojected back onto the solar disk)\n",
    "        area = region.area\n",
    "        # Write the data to the file\n",
    "        f.write('{0}, {1:01.1f}, {2:01.1f}\\n'.format(image_date, latlong_coord.lat.value, latlong_coord.lon.value, area))\n",
    "    # close the file\n",
    "    f.close()"
   ]
  }
 ],
 "metadata": {
  "kernelspec": {
   "display_name": "Python 3",
   "language": "python",
   "name": "python3"
  },
  "language_info": {
   "codemirror_mode": {
    "name": "ipython",
    "version": 3
   },
   "file_extension": ".py",
   "mimetype": "text/x-python",
   "name": "python",
   "nbconvert_exporter": "python",
   "pygments_lexer": "ipython3",
   "version": "3.5.3"
  }
 },
 "nbformat": 4,
 "nbformat_minor": 1
}
