{
 "cells": [
  {
   "cell_type": "code",
   "execution_count": 6,
   "metadata": {},
   "outputs": [
    {
     "name": "stdout",
     "output_type": "stream",
     "text": [
      "['0000n.txt', '0000p.txt', '0001n.txt', '0001p.txt', '0002n.txt', '0002p.txt', '0003n.txt', '0003p.txt', '0004n.txt', '0004p.txt', '0005n.txt', '0005p.txt', '0006n.txt', '0006p.txt', '0007n.txt', '0007p.txt', '0008n.txt', '0008p.txt', '0009n.txt', '0009p.txt', '0010n.txt', '0010p.txt', '0011n.txt', '0011p.txt', '0012n.txt', '0012p.txt', '0013n.txt', '0013p.txt', '0014n.txt', '0014p.txt', '0015n.txt', '0015p.txt']\n",
      "['0000n.txt', '0001n.txt', '0002n.txt', '0003n.txt', '0004n.txt', '0005n.txt', '0006n.txt', '0007n.txt', '0008n.txt', '0009n.txt', '0010n.txt', '0011n.txt', '0012n.txt', '0013n.txt', '0014n.txt', '0015n.txt']\n",
      "['0000p.txt', '0001p.txt', '0002p.txt', '0003p.txt', '0004p.txt', '0005p.txt', '0006p.txt', '0007p.txt', '0008p.txt', '0009p.txt', '0010p.txt', '0011p.txt', '0012p.txt', '0013p.txt', '0014p.txt', '0015p.txt']\n"
     ]
    }
   ],
   "source": [
    "from os import listdir\n",
    "\n",
    "# What directory are the text files stored in?\n",
    "basedir = '/Users/fraser/Github/MagneticFragmentation/fragment_properties/'\n",
    "\n",
    "# Get list of files to use\n",
    "files = listdir(basedir)\n",
    "\n",
    "# Split the list into two lists, one for positive fragments and one for negative fragments\n",
    "negfiles = [s for s in files if 'n' in s]\n",
    "posfiles = [s for s in files if 'p' in s]"
   ]
  }
 ],
 "metadata": {
  "kernelspec": {
   "display_name": "Python 3",
   "language": "python",
   "name": "python3"
  },
  "language_info": {
   "codemirror_mode": {
    "name": "ipython",
    "version": 3
   },
   "file_extension": ".py",
   "mimetype": "text/x-python",
   "name": "python",
   "nbconvert_exporter": "python",
   "pygments_lexer": "ipython3",
   "version": "3.5.3"
  }
 },
 "nbformat": 4,
 "nbformat_minor": 2
}
