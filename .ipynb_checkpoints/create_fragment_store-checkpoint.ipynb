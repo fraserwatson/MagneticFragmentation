{
 "cells": [
  {
   "cell_type": "code",
   "execution_count": 35,
   "metadata": {},
   "outputs": [
    {
     "name": "stdout",
     "output_type": "stream",
     "text": [
      "[datetime.datetime(2016, 7, 7, 23, 58, 47, 300000), datetime.datetime(2016, 7, 7, 23, 58, 47, 300000), datetime.datetime(2016, 7, 7, 23, 58, 47, 300000), datetime.datetime(2016, 7, 7, 23, 58, 47, 300000), datetime.datetime(2016, 7, 7, 23, 58, 47, 300000), datetime.datetime(2016, 7, 7, 23, 58, 47, 300000), datetime.datetime(2016, 7, 7, 23, 58, 47, 300000), datetime.datetime(2016, 7, 7, 23, 58, 47, 300000), datetime.datetime(2016, 7, 7, 23, 58, 47, 300000), datetime.datetime(2016, 7, 7, 23, 58, 47, 300000), datetime.datetime(2016, 7, 7, 23, 58, 47, 300000), datetime.datetime(2016, 7, 7, 23, 58, 47, 300000), datetime.datetime(2016, 7, 7, 23, 58, 47, 300000), datetime.datetime(2016, 7, 7, 23, 58, 47, 300000), datetime.datetime(2016, 7, 7, 23, 58, 47, 300000), datetime.datetime(2016, 7, 7, 23, 58, 47, 300000), datetime.datetime(2016, 7, 7, 23, 58, 47, 300000), datetime.datetime(2016, 7, 7, 23, 58, 47, 300000), datetime.datetime(2016, 7, 7, 23, 58, 47, 300000), datetime.datetime(2016, 7, 7, 23, 58, 47, 300000), datetime.datetime(2016, 7, 7, 23, 58, 47, 300000), datetime.datetime(2016, 7, 7, 23, 58, 47, 300000), datetime.datetime(2016, 7, 7, 23, 58, 47, 300000), datetime.datetime(2016, 7, 7, 23, 58, 47, 300000), datetime.datetime(2016, 7, 7, 23, 58, 47, 300000), datetime.datetime(2016, 7, 7, 23, 58, 47, 300000), datetime.datetime(2016, 7, 7, 23, 58, 47, 300000), datetime.datetime(2016, 7, 7, 23, 58, 47, 300000), datetime.datetime(2016, 7, 7, 23, 58, 47, 300000), datetime.datetime(2016, 7, 7, 23, 58, 47, 300000), datetime.datetime(2016, 7, 7, 23, 58, 47, 300000), datetime.datetime(2016, 7, 7, 23, 58, 47, 300000), datetime.datetime(2016, 7, 7, 23, 58, 47, 300000), datetime.datetime(2016, 7, 7, 23, 58, 47, 300000), datetime.datetime(2016, 7, 7, 23, 58, 47, 300000), datetime.datetime(2016, 7, 7, 23, 58, 47, 300000), datetime.datetime(2016, 7, 7, 23, 58, 47, 300000), datetime.datetime(2016, 7, 7, 23, 58, 47, 300000), datetime.datetime(2016, 7, 7, 23, 58, 47, 300000), datetime.datetime(2016, 7, 7, 23, 58, 47, 300000), datetime.datetime(2016, 7, 7, 23, 58, 47, 300000), datetime.datetime(2016, 7, 7, 23, 58, 47, 300000), datetime.datetime(2016, 7, 7, 23, 58, 47, 300000), datetime.datetime(2016, 7, 7, 23, 58, 47, 300000), datetime.datetime(2016, 7, 7, 23, 58, 47, 300000), datetime.datetime(2016, 7, 7, 23, 58, 47, 300000), datetime.datetime(2016, 7, 7, 23, 58, 47, 300000), datetime.datetime(2016, 7, 7, 23, 58, 47, 300000), datetime.datetime(2016, 7, 7, 23, 58, 47, 300000), datetime.datetime(2016, 7, 7, 23, 58, 47, 300000), datetime.datetime(2016, 7, 7, 23, 58, 47, 300000), datetime.datetime(2016, 7, 7, 23, 58, 47, 300000), datetime.datetime(2016, 7, 7, 23, 58, 47, 300000), datetime.datetime(2016, 7, 7, 23, 58, 47, 300000), datetime.datetime(2016, 7, 7, 23, 58, 47, 300000), datetime.datetime(2016, 7, 7, 23, 58, 47, 300000), datetime.datetime(2016, 7, 7, 23, 58, 47, 300000), datetime.datetime(2016, 7, 7, 23, 58, 47, 300000), datetime.datetime(2016, 7, 7, 23, 58, 47, 300000), datetime.datetime(2016, 7, 7, 23, 58, 47, 300000), datetime.datetime(2016, 7, 7, 23, 58, 47, 300000), datetime.datetime(2016, 7, 7, 23, 58, 47, 300000), datetime.datetime(2016, 7, 7, 23, 58, 47, 300000), datetime.datetime(2016, 7, 7, 23, 58, 47, 300000), datetime.datetime(2016, 7, 7, 23, 58, 47, 300000), datetime.datetime(2016, 7, 7, 23, 58, 47, 300000), datetime.datetime(2016, 7, 7, 23, 58, 47, 300000), datetime.datetime(2016, 7, 7, 23, 58, 47, 300000), datetime.datetime(2016, 7, 7, 23, 58, 47, 300000), datetime.datetime(2016, 7, 7, 23, 58, 47, 300000), datetime.datetime(2016, 7, 7, 23, 58, 47, 300000), datetime.datetime(2016, 7, 7, 23, 58, 47, 300000), datetime.datetime(2016, 7, 7, 23, 58, 47, 300000), datetime.datetime(2016, 7, 7, 23, 58, 47, 300000), datetime.datetime(2016, 7, 7, 23, 58, 47, 300000), datetime.datetime(2016, 7, 7, 23, 58, 47, 300000), datetime.datetime(2016, 7, 7, 23, 58, 47, 300000), datetime.datetime(2016, 7, 7, 23, 58, 47, 300000), datetime.datetime(2016, 7, 7, 23, 58, 47, 300000), datetime.datetime(2016, 7, 7, 23, 58, 47, 300000), datetime.datetime(2016, 7, 7, 23, 58, 47, 300000), datetime.datetime(2016, 7, 7, 23, 58, 47, 300000), datetime.datetime(2016, 7, 7, 23, 58, 47, 300000), datetime.datetime(2016, 7, 7, 23, 58, 47, 300000), datetime.datetime(2016, 7, 7, 23, 58, 47, 300000), datetime.datetime(2016, 7, 7, 23, 58, 47, 300000), datetime.datetime(2016, 7, 7, 23, 58, 47, 300000), datetime.datetime(2016, 7, 7, 23, 58, 47, 300000), datetime.datetime(2016, 7, 7, 23, 58, 47, 300000), datetime.datetime(2016, 7, 7, 23, 58, 47, 300000), datetime.datetime(2016, 7, 7, 23, 58, 47, 300000), datetime.datetime(2016, 7, 7, 23, 58, 47, 300000), datetime.datetime(2016, 7, 7, 23, 58, 47, 300000), datetime.datetime(2016, 7, 7, 23, 58, 47, 300000), datetime.datetime(2016, 7, 7, 23, 58, 47, 300000), datetime.datetime(2016, 7, 7, 23, 58, 47, 300000), datetime.datetime(2016, 7, 7, 23, 58, 47, 300000), datetime.datetime(2016, 7, 7, 23, 58, 47, 300000), datetime.datetime(2016, 7, 7, 23, 58, 47, 300000)]\n"
     ]
    }
   ],
   "source": [
    "from os import listdir\n",
    "import csv\n",
    "from datetime import datetime\n",
    "\n",
    "# What directory are the text files stored in?\n",
    "basedir = '/Users/fraser/Github/MagneticFragmentation/fragment_properties/'\n",
    "\n",
    "# Get list of files to use\n",
    "files = [basedir + i for i in listdir(basedir)]\n",
    "\n",
    "# Split the list into two lists, one for positive fragments and one for negative fragments\n",
    "negfiles = [s for s in files if 'n.' in s]\n",
    "posfiles = [s for s in files if 'p.' in s]\n",
    "\n",
    "# Set up the individual store dictionaries\n",
    "negstore = {}\n",
    "posstore = {}\n",
    "\n",
    "[dates, latitudes, longitudes] = fragment_file_reader(negfiles[0])\n",
    "\n",
    "print(dates)"
   ]
  }
 ],
 "metadata": {
  "kernelspec": {
   "display_name": "Python 3",
   "language": "python",
   "name": "python3"
  },
  "language_info": {
   "codemirror_mode": {
    "name": "ipython",
    "version": 3
   },
   "file_extension": ".py",
   "mimetype": "text/x-python",
   "name": "python",
   "nbconvert_exporter": "python",
   "pygments_lexer": "ipython3",
   "version": "3.5.3"
  }
 },
 "nbformat": 4,
 "nbformat_minor": 2
}
