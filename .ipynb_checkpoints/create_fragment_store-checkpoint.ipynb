{
 "cells": [
  {
   "cell_type": "code",
   "execution_count": 15,
   "metadata": {},
   "outputs": [
    {
     "name": "stdout",
     "output_type": "stream",
     "text": [
      "['67', '45', '69', '68', '8', '50', '12', '2', '36', '80', '88', '1', '22', '11', '7', '95', '24', '19', '62', '63', '33', '34', '29', '23', '64', '21', '56', '97', '39', '77', '75', '55', '78', '25', '66', '72', '84', '76', '30', '85', '70', '59', '96', '16', '61', '46', '74', '93', '79', '52', '54', '20', '3', '32', '57', '47', '92', '71', '6', '42', '73', '60', '9', '5', '31', '13', '49', '87', '51', '89', '82', '27', '43', '48', '94', '28', '18', '40', '17', '81', '58', '91', '37', '86', '4', '98', '10', '53', '14', '15', '65', '41', '0', '38', '35', '90', '83', '44', '26']\n",
      "[]\n",
      "[]\n",
      "[]\n",
      "[]\n",
      "[]\n",
      "[]\n",
      "[]\n",
      "[]\n",
      "[]\n",
      "[]\n",
      "[]\n",
      "[]\n",
      "[]\n",
      "[]\n"
     ]
    }
   ],
   "source": [
    "from os import listdir\n",
    "from fragment_file_reader import fragment_file_reader\n",
    "from datetime import datetime\n",
    "\n",
    "# What directory are the text files stored in?\n",
    "basedir = '/Users/fraser/Github/MagneticFragmentation/fragment_properties/'\n",
    "\n",
    "# Get list of files to use\n",
    "files = [basedir + i for i in listdir(basedir)]\n",
    "\n",
    "# Split the list into two lists, one for positive fragments and one for negative fragments\n",
    "neg_files = [s for s in files if 'n.' in s]\n",
    "pos_files = [s for s in files if 'p.' in s]\n",
    "\n",
    "# Set up the individual store dictionaries\n",
    "neg_store = {}\n",
    "neg_store_number = 0\n",
    "pos_store = {}\n",
    "pos_store_number = 0\n",
    "\n",
    "# For the first image, there is no previous timestep to compare against. All fragments are put into the store.\n",
    "[neg_dates, neg_latitudes, neg_longitudes] = fragment_file_reader(neg_files[0])\n",
    "\n",
    "for i in range(len(neg_dates)):\n",
    "    neg_store[str(neg_store_number)] = [neg_dates[i]], [neg_latitudes[i]], [neg_longitudes[i]]\n",
    "    neg_store_number += 1\n",
    "\n",
    "[pos_dates, pos_latitudes, pos_longitudes] = fragment_file_reader(pos_files[0])\n",
    "\n",
    "for i in range(len(pos_dates)):\n",
    "    pos_store[str(pos_store_number)] = [pos_dates[i]], [pos_latitudes[i]], [pos_longitudes[i]]\n",
    "    pos_store_number += 1\n",
    "\n",
    "# For each subsequent image (using the negative file number to keep track, but the positive one is the same)\n",
    "for image in range(1, len(neg_files)):\n",
    "    # Get fragments from new image\n",
    "    [neg_dates_new, neg_latitudes_new, neg_longitudes_new] = fragment_file_reader(neg_files[image])\n",
    "    # Get timestamp of old image to use to search the fragment store\n",
    "    neg_date_old = fragment_file_reader(neg_files[image-1])[0][0]\n",
    "    # Get fragments from new image\n",
    "    [pos_dates_new, pos_latitudes_new, pos_longitudes_new] = fragment_file_reader(pos_files[image])\n",
    "    # Get timestamp of old image to use to search the fragment store\n",
    "    pos_date_old = fragment_file_reader(pos_files[image-1])[0][0]\n",
    "    \n",
    "    # Search the region store and pull out all fragments that are in the old image\n",
    "    # Reset the negative key list\n",
    "    neg_key_list = []\n",
    "    for key in neg_store:\n",
    "        if neg_store[key][0][0] == neg_date_old:\n",
    "            neg_key_list.append(key)\n",
    "        \n",
    "    # Reset the positive key list\n",
    "    pos_key_list = []\n",
    "    for key in pos_store:\n",
    "        if pos_store[key][0][0] == pos_date_old:\n",
    "            pos_key_list.append(key)"
   ]
  }
 ],
 "metadata": {
  "kernelspec": {
   "display_name": "Python 3",
   "language": "python",
   "name": "python3"
  },
  "language_info": {
   "codemirror_mode": {
    "name": "ipython",
    "version": 3
   },
   "file_extension": ".py",
   "mimetype": "text/x-python",
   "name": "python",
   "nbconvert_exporter": "python",
   "pygments_lexer": "ipython3",
   "version": "3.5.3"
  }
 },
 "nbformat": 4,
 "nbformat_minor": 2
}
