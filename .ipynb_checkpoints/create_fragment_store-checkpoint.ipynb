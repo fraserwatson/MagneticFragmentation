{
 "cells": [
  {
   "cell_type": "code",
   "execution_count": 7,
   "metadata": {},
   "outputs": [
    {
     "name": "stdout",
     "output_type": "stream",
     "text": [
      "0:12:00\n"
     ]
    },
    {
     "ename": "NameError",
     "evalue": "name 'find_closest_fragment' is not defined",
     "output_type": "error",
     "traceback": [
      "\u001b[0;31m---------------------------------------------------------------------------\u001b[0m",
      "\u001b[0;31mNameError\u001b[0m                                 Traceback (most recent call last)",
      "\u001b[0;32m<ipython-input-7-032cf526f3d4>\u001b[0m in \u001b[0;36m<module>\u001b[0;34m()\u001b[0m\n\u001b[1;32m     71\u001b[0m     \u001b[0;31m# For each fragment in the new image, find the closest one in space in the old image\u001b[0m\u001b[0;34m\u001b[0m\u001b[0;34m\u001b[0m\u001b[0m\n\u001b[1;32m     72\u001b[0m     \u001b[0;32mfor\u001b[0m \u001b[0mfragment\u001b[0m \u001b[0;32min\u001b[0m \u001b[0mrange\u001b[0m\u001b[0;34m(\u001b[0m\u001b[0mlen\u001b[0m\u001b[0;34m(\u001b[0m\u001b[0mneg_latitudes_new\u001b[0m\u001b[0;34m)\u001b[0m\u001b[0;34m)\u001b[0m\u001b[0;34m:\u001b[0m\u001b[0;34m\u001b[0m\u001b[0m\n\u001b[0;32m---> 73\u001b[0;31m         \u001b[0mindex\u001b[0m \u001b[0;34m=\u001b[0m \u001b[0mfind_closest_fragment\u001b[0m\u001b[0;34m(\u001b[0m\u001b[0mneg_latitudes_new\u001b[0m\u001b[0;34m[\u001b[0m\u001b[0mfragment\u001b[0m\u001b[0;34m]\u001b[0m\u001b[0;34m,\u001b[0m \u001b[0mneg_longitudes_new\u001b[0m\u001b[0;34m[\u001b[0m\u001b[0mfragment\u001b[0m\u001b[0;34m]\u001b[0m\u001b[0;34m,\u001b[0m \u001b[0mneg_latitudes_old\u001b[0m\u001b[0;34m,\u001b[0m \u001b[0mneg_longitudes_old\u001b[0m\u001b[0;34m,\u001b[0m \u001b[0;34m)\u001b[0m\u001b[0;34m\u001b[0m\u001b[0m\n\u001b[0m",
      "\u001b[0;31mNameError\u001b[0m: name 'find_closest_fragment' is not defined"
     ]
    }
   ],
   "source": [
    "from os import listdir\n",
    "from fragment_file_reader import fragment_file_reader\n",
    "from datetime import datetime\n",
    "from find_closest_fragment import find_closest_fragment\n",
    "\n",
    "# What directory are the text files stored in?\n",
    "basedir = '/Users/fraser/Github/MagneticFragmentation/fragment_properties/'\n",
    "\n",
    "# Get list of files to use\n",
    "files = [basedir + i for i in listdir(basedir)]\n",
    "\n",
    "# Split the list into two lists, one for positive fragments and one for negative fragments\n",
    "neg_files = [s for s in files if 'n.' in s]\n",
    "pos_files = [s for s in files if 'p.' in s]\n",
    "\n",
    "# Set up the individual store dictionaries\n",
    "neg_store = {}\n",
    "neg_store_number = 0\n",
    "pos_store = {}\n",
    "pos_store_number = 0\n",
    "\n",
    "# For the first image, there is no previous timestep to compare against. All fragments are put into the store.\n",
    "[neg_dates, neg_latitudes, neg_longitudes] = fragment_file_reader(neg_files[0])\n",
    "\n",
    "for i in range(len(neg_dates)):\n",
    "    neg_store[str(neg_store_number)] = [neg_dates[i]], [neg_latitudes[i]], [neg_longitudes[i]]\n",
    "    neg_store_number += 1\n",
    "\n",
    "[pos_dates, pos_latitudes, pos_longitudes] = fragment_file_reader(pos_files[0])\n",
    "\n",
    "for i in range(len(pos_dates)):\n",
    "    pos_store[str(pos_store_number)] = [pos_dates[i]], [pos_latitudes[i]], [pos_longitudes[i]]\n",
    "    pos_store_number += 1\n",
    "\n",
    "# For each subsequent image (using the negative file number to keep track, but the positive one is the same)\n",
    "for image in range(1, len(neg_files)):\n",
    "    # Get fragments from new image\n",
    "    [neg_dates_new, neg_latitudes_new, neg_longitudes_new] = fragment_file_reader(neg_files[image])\n",
    "    # Get timestamp of old image to use to search the fragment store\n",
    "    neg_date_old = fragment_file_reader(neg_files[image-1])[0][0]\n",
    "    # Get fragments from new image\n",
    "    [pos_dates_new, pos_latitudes_new, pos_longitudes_new] = fragment_file_reader(pos_files[image])\n",
    "    # Get timestamp of old image to use to search the fragment store\n",
    "    pos_date_old = fragment_file_reader(pos_files[image-1])[0][0]\n",
    "    \n",
    "    # Search the region store and pull out all fragments that are in the old image\n",
    "    # Reset the negative key list and old lat long lists\n",
    "    neg_key_list = []\n",
    "    neg_latitudes_old = []\n",
    "    neg_longitudes_old = []\n",
    "    for key in neg_store:\n",
    "        if neg_store[key][0][0] == neg_date_old:\n",
    "            # Find which keys in the dictionary contain fragments from the previous image and get their key, lat, and long\n",
    "            neg_key_list.append(key)\n",
    "            neg_latitudes_old.append(neg_store[key][1])\n",
    "            neg_longitudes_old.append(neg_store[key][2])\n",
    "    \n",
    "    # Reset the positive key list and old lat long lists\n",
    "    pos_key_list = []\n",
    "    pos_latitudes_old = []\n",
    "    pos_longitudes_old = []\n",
    "    for key in pos_store:\n",
    "        if pos_store[key][0][0] == pos_date_old:\n",
    "            # Find which keys in the dictionary contain fragments from the previous image and get their key, lat, and long\n",
    "            pos_key_list.append(key)\n",
    "            pos_latitudes_old.append(pos_store[key][1])\n",
    "            pos_longitudes_old.append(pos_store[key][2])\n",
    "    \n",
    "    # Calculate the time difference between the old and new images to remove solar rotation\n",
    "    time_delta = neg_dates_new[0] - neg_date_old\n",
    "    print(time_delta)\n",
    "    # For each fragment in the new image, find the closest one in space in the old image\n",
    "    for fragment in range(len(neg_latitudes_new)):\n",
    "        index = find_closest_fragment(neg_latitudes_new[fragment], neg_longitudes_new[fragment], neg_latitudes_old, neg_longitudes_old, )"
   ]
  },
  {
   "cell_type": "code",
   "execution_count": null,
   "metadata": {
    "collapsed": true
   },
   "outputs": [],
   "source": []
  }
 ],
 "metadata": {
  "kernelspec": {
   "display_name": "Python 3",
   "language": "python",
   "name": "python3"
  },
  "language_info": {
   "codemirror_mode": {
    "name": "ipython",
    "version": 3
   },
   "file_extension": ".py",
   "mimetype": "text/x-python",
   "name": "python",
   "nbconvert_exporter": "python",
   "pygments_lexer": "ipython3",
   "version": "3.5.3"
  }
 },
 "nbformat": 4,
 "nbformat_minor": 2
}
