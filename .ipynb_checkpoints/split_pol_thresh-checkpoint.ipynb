{
 "cells": [
  {
   "cell_type": "code",
   "execution_count": null,
   "metadata": {
    "collapsed": true
   },
   "outputs": [],
   "source": [
    "def split_pol_thresh(data, threshold, polarity):\n",
    "\n",
    "    # This function takes the input data along with a threshold, and returns\n",
    "    # the same data with everything below the threshold removed. In addition,\n",
    "    # if the data is negative, it is inverted so that the following routines\n",
    "    # can be run on positive and negative data interchangeably.\n",
    "\n",
    "    import numpy as np\n",
    "\n",
    "    # Create a copy of the data\n",
    "    output = np.copy(data)\n",
    "\n",
    "    # Check polarity and invert if necessary\n",
    "    if polarity == 'pos':\n",
    "        pass\n",
    "    elif polarity == 'neg':\n",
    "        output = output * (-1)\n",
    "    else:\n",
    "        print('Polarity must be pos or neg.')\n",
    "\n",
    "    # Set data below threshold to zero\n",
    "    output[output < threshold] = 0\n",
    "\n",
    "    return output\n"
   ]
  }
 ],
 "metadata": {
  "kernelspec": {
   "display_name": "Python 3",
   "language": "python",
   "name": "python3"
  },
  "language_info": {
   "codemirror_mode": {
    "name": "ipython",
    "version": 3
   },
   "file_extension": ".py",
   "mimetype": "text/x-python",
   "name": "python",
   "nbconvert_exporter": "python",
   "pygments_lexer": "ipython3",
   "version": "3.5.3"
  }
 },
 "nbformat": 4,
 "nbformat_minor": 1
}
