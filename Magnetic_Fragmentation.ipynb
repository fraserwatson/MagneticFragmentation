{
 "cells": [
  {
   "cell_type": "markdown",
   "metadata": {},
   "source": [
    "Import required modules and set up matplotlib display properties. Set up variables."
   ]
  },
  {
   "cell_type": "code",
   "execution_count": 1,
   "metadata": {},
   "outputs": [
    {
     "name": "stderr",
     "output_type": "stream",
     "text": [
      "WARNING: AstropyDeprecationWarning: astropy.utils.compat.odict.OrderedDict is now deprecated - import OrderedDict from the collections module instead [astropy.utils.compat.odict]\n"
     ]
    }
   ],
   "source": [
    "import astropy.units as u\n",
    "import sunpy.map\n",
    "import numpy as np\n",
    "import matplotlib.pyplot as plt\n",
    "import skimage.measure as ms\n",
    "import os\n",
    "from split_pol_thresh import split_pol_thresh\n",
    "from find_regions import find_regions\n",
    "from write_props import write_props\n",
    "%matplotlib notebook\n",
    "plt.rcParams['figure.figsize'] = 11, 11\n",
    "plt.rcParams.update({'font.size': 12})\n",
    "\n",
    "# Choose threshold. Any magnetic fields under this level (in Gauss) will be ignored.\n",
    "threshold = 250 # Gauss\n",
    "datapath = '/Users/fraser/Data/HMImag/' #location of the input data files"
   ]
  },
  {
   "cell_type": "markdown",
   "metadata": {},
   "source": [
    "Load magnetogram paths."
   ]
  },
  {
   "cell_type": "code",
   "execution_count": 2,
   "metadata": {},
   "outputs": [],
   "source": [
    "files_to_load = os.listdir(datapath)"
   ]
  },
  {
   "cell_type": "markdown",
   "metadata": {},
   "source": [
    "Loop over files to find fragments and create text document that represents the properties of fragments in each image file."
   ]
  },
  {
   "cell_type": "code",
   "execution_count": 4,
   "metadata": {},
   "outputs": [],
   "source": [
    "for image in range(len(files_to_load)):\n",
    "    # Create the full filepath of the FITS file\n",
    "    filename = datapath + files_to_load[image]\n",
    "    \n",
    "    # Pull out the data into a SunPy map\n",
    "    data = sunpy.map.Map(filename)\n",
    "    \n",
    "    # Choose which part of the image we want to look at using solar coordinates\n",
    "    rangex = u.Quantity([-225 * u.arcsec, -590 * u.arcsec])\n",
    "    rangey = u.Quantity([-342 * u.arcsec, -90 * u.arcsec])\n",
    "    \n",
    "    # Create a submap using those coordinates\n",
    "    submap_area = data.submap(rangex, rangey)\n",
    "    submap_data = np.copy(submap_area.data)\n",
    "\n",
    "    # Zero all edges to remove edge effects\n",
    "    submap_data[0, :] = 0\n",
    "    submap_data[-1, :] = 0\n",
    "    submap_data[:, 0] = 0\n",
    "    submap_data[:, -1] = 0\n",
    "    \n",
    "    # Split into positive and negative data frames\n",
    "    pos_data = split_pol_thresh(submap_data, threshold, 'pos')\n",
    "    neg_data = split_pol_thresh(submap_data, threshold, 'neg')\n",
    "    \n",
    "    # Find the regions in the positive and negative magnetogram data\n",
    "    pos_region_frame, num_pos_regions = find_regions(pos_data)\n",
    "    neg_region_frame, num_neg_regions = find_regions(neg_data)\n",
    "    \n",
    "    # Convert the data into label frames that scikit-image can use\n",
    "    pos_labeled_frame, pos_num_labels = ms.label(pos_region_frame.astype(int), return_num=True, connectivity=2)\n",
    "    neg_labeled_frame, neg_num_labels = ms.label(neg_region_frame.astype(int), return_num=True, connectivity=2)\n",
    "    \n",
    "    # Use the scikit-image method 'regionprops' to get various properties on the fragments in the image data\n",
    "    pos_properties = ms.regionprops(pos_labeled_frame, intensity_image=pos_data)\n",
    "    neg_properties = ms.regionprops(neg_labeled_frame, intensity_image=neg_data)\n",
    "    \n",
    "    # Save the fragment properties in text files for later analysis\n",
    "    write_props(pos_properties, 'p', image, data.date)\n",
    "    write_props(neg_properties, 'n', image, data.date)"
   ]
  }
 ],
 "metadata": {
  "kernelspec": {
   "display_name": "Python 3",
   "language": "python",
   "name": "python3"
  },
  "language_info": {
   "codemirror_mode": {
    "name": "ipython",
    "version": 3
   },
   "file_extension": ".py",
   "mimetype": "text/x-python",
   "name": "python",
   "nbconvert_exporter": "python",
   "pygments_lexer": "ipython3",
   "version": "3.5.3"
  }
 },
 "nbformat": 4,
 "nbformat_minor": 1
}
