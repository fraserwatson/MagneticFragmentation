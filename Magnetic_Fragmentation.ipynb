{
 "cells": [
  {
   "cell_type": "markdown",
   "metadata": {},
   "source": [
    "Import required modules and set up matplotlib display properties. Set up variables."
   ]
  },
  {
   "cell_type": "code",
   "execution_count": 1,
   "metadata": {},
   "outputs": [],
   "source": [
    "# astropy.units allows us to use physical units throughout the code and easily\n",
    "# perform calculations on them\n",
    "import astropy.units as u\n",
    "# sunpy.map handles the coordinates of the data we are using\n",
    "import sunpy.map\n",
    "from sunpy.coordinates import frames\n",
    "# numpy is a package that makes handling arrays much easier\n",
    "import numpy as np\n",
    "# The SkyCoord object lets us convert between astronomical coordinate systems\n",
    "from astropy.coordinates import SkyCoord\n",
    "# matplotlib.pyplot is the standard plotting tool in python\n",
    "import matplotlib.pyplot as plt\n",
    "# skimage.measure performs the fragmentation\n",
    "import skimage.measure as ms\n",
    "# os is a library of operating system functions that we use to get filepaths\n",
    "import os\n",
    "# The next three imports are functions written just for this purpose\n",
    "from split_pol_thresh import split_pol_thresh\n",
    "from find_regions import find_regions\n",
    "from write_props import write_props\n",
    "from rotate_long import rotate_long\n",
    "from window_corner_rotation import window_corner_rotation\n",
    "plt.rcParams['figure.figsize'] = 12, 10\n",
    "plt.rcParams.update({'font.size': 22})\n",
    "\n",
    "# Choose threshold. Magnetic fields under this level (Gauss) will be ignored\n",
    "threshold = 250  # Gauss\n",
    "\n",
    "# Choose the initial observation window using solar coordinates (in arcsecs from disk centre)\n",
    "bottom_left = [-120, -50]\n",
    "top_right = [120, -230]\n",
    "\n",
    "datapath = '/Users/fraser/Data/HMImag/20140323/'  # location of the input data files\n",
    "bulk_region_props_path = '/Users/fraser/Github/MagneticFragmentationOutput/fragment_properties/bulk_props.txt'"
   ]
  },
  {
   "cell_type": "markdown",
   "metadata": {},
   "source": [
    "Load magnetogram paths."
   ]
  },
  {
   "cell_type": "code",
   "execution_count": null,
   "metadata": {},
   "outputs": [],
   "source": [
    "# Get the full filepath of the magnetograms we will be using\n",
    "files_to_load = os.listdir(datapath)\n",
    "\n",
    "filename = datapath + files_to_load[0]\n",
    "data = sunpy.map.Map(filename)\n",
    "initial_obs_time = data.date\n",
    "\n",
    "bl = SkyCoord(bottom_left[0] * u.arcsec,\n",
    "              bottom_left[1] * u.arcsec,\n",
    "              frame=frames.Helioprojective,\n",
    "              obstime=initial_obs_time)  # bl is bottom left corner\n",
    "tr = SkyCoord(top_right[0] * u.arcsec,\n",
    "              top_right[1] * u.arcsec,\n",
    "              frame=frames.Helioprojective,\n",
    "              obstime=initial_obs_time)   # tr is top right corner\n",
    "bl_stonyhurst = bl.transform_to(frames.HeliographicStonyhurst)\n",
    "tr_stonyhurst = tr.transform_to(frames.HeliographicStonyhurst)"
   ]
  },
  {
   "cell_type": "markdown",
   "metadata": {},
   "source": [
    "Loop over files to find fragments and create text document that represents the properties of fragments in each image file."
   ]
  },
  {
   "cell_type": "code",
   "execution_count": null,
   "metadata": {
    "scrolled": true
   },
   "outputs": [],
   "source": [
    "# For each image...\n",
    "for image in range(10):#len(files_to_load)):\n",
    "    # Create the full filepath of the FITS file\n",
    "    filename = datapath + files_to_load[image]\n",
    "\n",
    "    # Pull out the data into a SunPy map\n",
    "    data = sunpy.map.Map(filename)\n",
    "    \n",
    "    # Transform the initial window coordinates into lat/long coordinates at the time of this image\n",
    "    # Calculate the timedelta from the original image in days\n",
    "    timedelta = (data.date - initial_obs_time).total_seconds()/86400\n",
    "    [bl, tr] = window_corner_rotation(bl_stonyhurst, tr_stonyhurst, timedelta, data.date)    \n",
    "    \n",
    "    # Create a submap using those coordinates\n",
    "    # We are creating two submaps that are identical because from\n",
    "    # this point on, all positive polarity data will be split from\n",
    "    # negative polarity data\n",
    "    pos_submap_area = data.submap(bl, tr)\n",
    "    neg_submap_area = data.submap(bl, tr)\n",
    "\n",
    "    # Set all of the edge pixels in the submaps to zero. This stops\n",
    "    # errors in the 'find_regions' function\n",
    "    neg_submap_area_data = np.array(neg_submap_area.data)\n",
    "    neg_submap_area_data = np.pad(neg_submap_area_data, ((1, 1), (1, 1)), 'constant', constant_values=(0, 0))\n",
    "    pos_submap_area_data = np.array(pos_submap_area.data)\n",
    "    pos_submap_area_data = np.pad(pos_submap_area_data, ((1, 1), (1, 1)), 'constant', constant_values=(0, 0))\n",
    "    \n",
    "    # Strip out all negative data in the positive submap, and vice versa\n",
    "    pos_submap_data = split_pol_thresh(pos_submap_area_data, threshold, 'pos')\n",
    "    neg_submap_data = split_pol_thresh(neg_submap_area_data, threshold, 'neg')\n",
    "      \n",
    "    # Find the regions in the positive and negative magnetogram data\n",
    "    pos_region_frame, num_pos_regions = find_regions(pos_submap_data)\n",
    "    neg_region_frame, num_neg_regions = find_regions(neg_submap_data)\n",
    "\n",
    "    # Convert the data into label frames that scikit-image can use\n",
    "    pos_labeled_frame, pos_num_labels = ms.label(pos_region_frame.astype(int),\n",
    "                                                 return_num=True,\n",
    "                                                 connectivity=2)\n",
    "    neg_labeled_frame, neg_num_labels = ms.label(neg_region_frame.astype(int),\n",
    "                                                 return_num=True,\n",
    "                                                 connectivity=2)\n",
    "\n",
    "    # Use the scikit-image method 'regionprops' to get various properties on\n",
    "    # the fragments in the image data\n",
    "    pos_properties = ms.regionprops(pos_labeled_frame,\n",
    "                                    intensity_image=pos_submap_area.data)\n",
    "    neg_properties = ms.regionprops(neg_labeled_frame,\n",
    "                                    intensity_image=neg_submap_area.data)\n",
    "        \n",
    "\n",
    "    # Write the properties to files. Note that to add new properties,\n",
    "    # do so in the 'write_props' function\n",
    "    write_props(pos_properties, 'p', image, data.date, pos_submap_area, bulk_region_props_path)\n",
    "    write_props(neg_properties, 'n', image, data.date, neg_submap_area, bulk_region_props_path)\n",
    "    \n",
    "    pos_submap_area.plot()\n",
    "    imagefilename = '/Users/fraser/Github/MagneticFragmentationOutput/fragment_properties/' + 'HMI' + str(image).zfill(4)\n",
    "    plt.savefig(imagefilename)\n",
    "    plt.clf()"
   ]
  }
 ],
 "metadata": {
  "kernelspec": {
   "display_name": "Python 3",
   "language": "python",
   "name": "python3"
  },
  "language_info": {
   "codemirror_mode": {
    "name": "ipython",
    "version": 3
   },
   "file_extension": ".py",
   "mimetype": "text/x-python",
   "name": "python",
   "nbconvert_exporter": "python",
   "pygments_lexer": "ipython3",
   "version": "3.5.4"
  }
 },
 "nbformat": 4,
 "nbformat_minor": 1
}
