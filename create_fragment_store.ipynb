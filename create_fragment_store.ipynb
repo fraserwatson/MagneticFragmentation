{
 "cells": [
  {
   "cell_type": "code",
   "execution_count": 5,
   "metadata": {},
   "outputs": [
    {
     "name": "stdout",
     "output_type": "stream",
     "text": [
      "{'64': ([datetime.datetime(2016, 7, 7, 23, 58, 47, 300000)], [582.5], [177.0]), '73': ([datetime.datetime(2016, 7, 7, 23, 58, 47, 300000)], [570.4], [205.2]), '20': ([datetime.datetime(2016, 7, 7, 23, 58, 47, 300000)], [610.9], [90.8]), '12': ([datetime.datetime(2016, 7, 7, 23, 58, 47, 300000)], [585.9], [80.9]), '40': ([datetime.datetime(2016, 7, 7, 23, 58, 47, 300000)], [543.9], [124.4]), '82': ([datetime.datetime(2016, 7, 7, 23, 58, 47, 300000)], [329.9], [314.6]), '94': ([datetime.datetime(2016, 7, 7, 23, 58, 47, 300000)], [281.1], [398.1]), '60': ([datetime.datetime(2016, 7, 7, 23, 58, 47, 300000)], [587.0], [165.5]), '7': ([datetime.datetime(2016, 7, 7, 23, 58, 47, 300000)], [584.1], [67.3]), '47': ([datetime.datetime(2016, 7, 7, 23, 58, 47, 300000)], [598.0], [130.5]), '74': ([datetime.datetime(2016, 7, 7, 23, 58, 47, 300000)], [595.0], [205.0]), '36': ([datetime.datetime(2016, 7, 7, 23, 58, 47, 300000)], [549.3], [123.7]), '87': ([datetime.datetime(2016, 7, 7, 23, 58, 47, 300000)], [286.5], [362.6]), '37': ([datetime.datetime(2016, 7, 7, 23, 58, 47, 300000)], [623.6], [121.8]), '11': ([datetime.datetime(2016, 7, 7, 23, 58, 47, 300000)], [627.0], [79.0]), '32': ([datetime.datetime(2016, 7, 7, 23, 58, 47, 300000)], [628.2], [114.8]), '19': ([datetime.datetime(2016, 7, 7, 23, 58, 47, 300000)], [534.5], [89.5]), '25': ([datetime.datetime(2016, 7, 7, 23, 58, 47, 300000)], [554.7], [105.7]), '62': ([datetime.datetime(2016, 7, 7, 23, 58, 47, 300000)], [583.3], [170.7]), '93': ([datetime.datetime(2016, 7, 7, 23, 58, 47, 300000)], [267.3], [377.4]), '56': ([datetime.datetime(2016, 7, 7, 23, 58, 47, 300000)], [533.2], [141.2]), '34': ([datetime.datetime(2016, 7, 7, 23, 58, 47, 300000)], [550.4], [120.5]), '71': ([datetime.datetime(2016, 7, 7, 23, 58, 47, 300000)], [571.3], [201.3]), '26': ([datetime.datetime(2016, 7, 7, 23, 58, 47, 300000)], [559.2], [107.6]), '8': ([datetime.datetime(2016, 7, 7, 23, 58, 47, 300000)], [540.5], [69.5]), '6': ([datetime.datetime(2016, 7, 7, 23, 58, 47, 300000)], [540.3], [65.3]), '23': ([datetime.datetime(2016, 7, 7, 23, 58, 47, 300000)], [555.4], [102.0]), '17': ([datetime.datetime(2016, 7, 7, 23, 58, 47, 300000)], [534.4], [88.0]), '91': ([datetime.datetime(2016, 7, 7, 23, 58, 47, 300000)], [351.0], [369.5]), '41': ([datetime.datetime(2016, 7, 7, 23, 58, 47, 300000)], [550.6], [129.5]), '97': ([datetime.datetime(2016, 7, 7, 23, 58, 47, 300000)], [296.7], [460.3]), '68': ([datetime.datetime(2016, 7, 7, 23, 58, 47, 300000)], [625.5], [184.5]), '77': ([datetime.datetime(2016, 7, 7, 23, 58, 47, 300000)], [344.0], [281.8]), '86': ([datetime.datetime(2016, 7, 7, 23, 58, 47, 300000)], [287.7], [359.7]), '1': ([datetime.datetime(2016, 7, 7, 23, 58, 47, 300000)], [452.0], [25.0]), '14': ([datetime.datetime(2016, 7, 7, 23, 58, 47, 300000)], [571.0], [82.0]), '38': ([datetime.datetime(2016, 7, 7, 23, 58, 47, 300000)], [639.4], [126.4]), '48': ([datetime.datetime(2016, 7, 7, 23, 58, 47, 300000)], [678.9], [131.1]), '89': ([datetime.datetime(2016, 7, 7, 23, 58, 47, 300000)], [277.0], [365.0]), '52': ([datetime.datetime(2016, 7, 7, 23, 58, 47, 300000)], [546.6], [135.0]), '81': ([datetime.datetime(2016, 7, 7, 23, 58, 47, 300000)], [366.0], [305.0]), '63': ([datetime.datetime(2016, 7, 7, 23, 58, 47, 300000)], [577.6], [174.3]), '75': ([datetime.datetime(2016, 7, 7, 23, 58, 47, 300000)], [601.3], [215.5]), '80': ([datetime.datetime(2016, 7, 7, 23, 58, 47, 300000)], [246.0], [298.5]), '54': ([datetime.datetime(2016, 7, 7, 23, 58, 47, 300000)], [589.7], [137.7]), '35': ([datetime.datetime(2016, 7, 7, 23, 58, 47, 300000)], [633.6], [122.1]), '50': ([datetime.datetime(2016, 7, 7, 23, 58, 47, 300000)], [536.0], [132.5]), '53': ([datetime.datetime(2016, 7, 7, 23, 58, 47, 300000)], [556.6], [139.1]), '0': ([datetime.datetime(2016, 7, 7, 23, 58, 47, 300000)], [659.0], [12.0]), '13': ([datetime.datetime(2016, 7, 7, 23, 58, 47, 300000)], [568.0], [81.0]), '57': ([datetime.datetime(2016, 7, 7, 23, 58, 47, 300000)], [588.6], [145.8]), '83': ([datetime.datetime(2016, 7, 7, 23, 58, 47, 300000)], [287.7], [354.7]), '2': ([datetime.datetime(2016, 7, 7, 23, 58, 47, 300000)], [553.6], [40.4]), '24': ([datetime.datetime(2016, 7, 7, 23, 58, 47, 300000)], [634.5], [106.0]), '31': ([datetime.datetime(2016, 7, 7, 23, 58, 47, 300000)], [563.3], [114.3]), '43': ([datetime.datetime(2016, 7, 7, 23, 58, 47, 300000)], [555.1], [125.8]), '28': ([datetime.datetime(2016, 7, 7, 23, 58, 47, 300000)], [631.9], [112.5]), '90': ([datetime.datetime(2016, 7, 7, 23, 58, 47, 300000)], [346.5], [368.2]), '65': ([datetime.datetime(2016, 7, 7, 23, 58, 47, 300000)], [569.6], [183.7]), '70': ([datetime.datetime(2016, 7, 7, 23, 58, 47, 300000)], [580.0], [190.0]), '4': ([datetime.datetime(2016, 7, 7, 23, 58, 47, 300000)], [634.0], [53.0]), '67': ([datetime.datetime(2016, 7, 7, 23, 58, 47, 300000)], [578.2], [184.7]), '29': ([datetime.datetime(2016, 7, 7, 23, 58, 47, 300000)], [553.1], [113.6]), '27': ([datetime.datetime(2016, 7, 7, 23, 58, 47, 300000)], [563.5], [110.5]), '69': ([datetime.datetime(2016, 7, 7, 23, 58, 47, 300000)], [595.0], [186.0]), '21': ([datetime.datetime(2016, 7, 7, 23, 58, 47, 300000)], [618.0], [91.5]), '18': ([datetime.datetime(2016, 7, 7, 23, 58, 47, 300000)], [610.0], [87.5]), '58': ([datetime.datetime(2016, 7, 7, 23, 58, 47, 300000)], [531.0], [146.0]), '95': ([datetime.datetime(2016, 7, 7, 23, 58, 47, 300000)], [293.8], [453.8]), '10': ([datetime.datetime(2016, 7, 7, 23, 58, 47, 300000)], [576.1], [81.3]), '85': ([datetime.datetime(2016, 7, 7, 23, 58, 47, 300000)], [292.2], [356.6]), '66': ([datetime.datetime(2016, 7, 7, 23, 58, 47, 300000)], [573.5], [182.0]), '3': ([datetime.datetime(2016, 7, 7, 23, 58, 47, 300000)], [548.5], [45.0]), '49': ([datetime.datetime(2016, 7, 7, 23, 58, 47, 300000)], [592.0], [134.7]), '45': ([datetime.datetime(2016, 7, 7, 23, 58, 47, 300000)], [681.6], [127.7]), '42': ([datetime.datetime(2016, 7, 7, 23, 58, 47, 300000)], [539.4], [127.5]), '33': ([datetime.datetime(2016, 7, 7, 23, 58, 47, 300000)], [561.8], [118.9]), '44': ([datetime.datetime(2016, 7, 7, 23, 58, 47, 300000)], [558.5], [125.0]), '79': ([datetime.datetime(2016, 7, 7, 23, 58, 47, 300000)], [330.5], [294.5]), '88': ([datetime.datetime(2016, 7, 7, 23, 58, 47, 300000)], [282.0], [364.0]), '39': ([datetime.datetime(2016, 7, 7, 23, 58, 47, 300000)], [639.0], [122.5]), '92': ([datetime.datetime(2016, 7, 7, 23, 58, 47, 300000)], [260.7], [376.6]), '55': ([datetime.datetime(2016, 7, 7, 23, 58, 47, 300000)], [539.4], [139.4]), '5': ([datetime.datetime(2016, 7, 7, 23, 58, 47, 300000)], [652.3], [58.3]), '61': ([datetime.datetime(2016, 7, 7, 23, 58, 47, 300000)], [583.4], [167.3]), '51': ([datetime.datetime(2016, 7, 7, 23, 58, 47, 300000)], [540.3], [133.2]), '72': ([datetime.datetime(2016, 7, 7, 23, 58, 47, 300000)], [598.5], [206.2]), '9': ([datetime.datetime(2016, 7, 7, 23, 58, 47, 300000)], [651.5], [78.0]), '59': ([datetime.datetime(2016, 7, 7, 23, 58, 47, 300000)], [588.7], [160.3]), '22': ([datetime.datetime(2016, 7, 7, 23, 58, 47, 300000)], [618.8], [97.0]), '98': ([datetime.datetime(2016, 7, 7, 23, 58, 47, 300000)], [287.0], [471.8]), '30': ([datetime.datetime(2016, 7, 7, 23, 58, 47, 300000)], [556.5], [112.5]), '16': ([datetime.datetime(2016, 7, 7, 23, 58, 47, 300000)], [614.0], [87.2]), '96': ([datetime.datetime(2016, 7, 7, 23, 58, 47, 300000)], [293.8], [458.9]), '76': ([datetime.datetime(2016, 7, 7, 23, 58, 47, 300000)], [601.7], [211.7]), '46': ([datetime.datetime(2016, 7, 7, 23, 58, 47, 300000)], [527.2], [128.6]), '78': ([datetime.datetime(2016, 7, 7, 23, 58, 47, 300000)], [365.7], [294.0]), '15': ([datetime.datetime(2016, 7, 7, 23, 58, 47, 300000)], [617.0], [83.5]), '84': ([datetime.datetime(2016, 7, 7, 23, 58, 47, 300000)], [290.0], [354.0])}\n"
     ]
    }
   ],
   "source": [
    "from os import listdir\n",
    "from fragment_file_reader import fragment_file_reader\n",
    "\n",
    "# What directory are the text files stored in?\n",
    "basedir = '/Users/fraser/Github/MagneticFragmentation/fragment_properties/'\n",
    "\n",
    "# Get list of files to use\n",
    "files = [basedir + i for i in listdir(basedir)]\n",
    "\n",
    "# Split the list into two lists, one for positive fragments and one for negative fragments\n",
    "negfiles = [s for s in files if 'n.' in s]\n",
    "posfiles = [s for s in files if 'p.' in s]\n",
    "\n",
    "# Set up the individual store dictionaries\n",
    "negstore = {}\n",
    "negstore_number = 0\n",
    "posstore = {}\n",
    "posstore_number = 0\n",
    "\n",
    "# For the first image, there is no previous timestep to compare against. All fragments are put into the store.\n",
    "[negdates, neglatitudes, neglongitudes] = fragment_file_reader(negfiles[0])\n",
    "\n",
    "for i in range(len(negdates)):\n",
    "    negstore[str(negstore_number)] = [negdates[i]], [neglatitudes[i]], [neglongitudes[i]]\n",
    "    negstore_number += 1\n",
    "\n",
    "[posdates, poslatitudes, poslongitudes] = fragment_file_reader(posfiles[0])\n",
    "\n",
    "for i in range(len(posdates)):\n",
    "    posstore[str(posstore_number)] = [posdates[i]], [poslatitudes[i]], [poslongitudes[i]]\n",
    "    posstore_number += 1"
   ]
  }
 ],
 "metadata": {
  "kernelspec": {
   "display_name": "Python 3",
   "language": "python",
   "name": "python3"
  },
  "language_info": {
   "codemirror_mode": {
    "name": "ipython",
    "version": 3
   },
   "file_extension": ".py",
   "mimetype": "text/x-python",
   "name": "python",
   "nbconvert_exporter": "python",
   "pygments_lexer": "ipython3",
   "version": "3.5.3"
  }
 },
 "nbformat": 4,
 "nbformat_minor": 2
}
