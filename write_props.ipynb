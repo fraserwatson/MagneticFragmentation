{
 "cells": [
  {
   "cell_type": "code",
   "execution_count": 1,
   "metadata": {
    "collapsed": true
   },
   "outputs": [],
   "source": [
    "def write_props(props, polarity, image_num, image_date, submap):\n",
    "    from astropy.coordinates import SkyCoord\n",
    "    \n",
    "    filename = '{num:04d}'.format(num = image_num)+polarity+'.txt'\n",
    "    f = open(filename, 'w')\n",
    "    for region in props:\n",
    "        x = region.centroid[1]\n",
    "        y = region.centroid[0]\n",
    "        area = region.area\n",
    "        f.write('{0}, {1:01.1f}, {2:01.1f}\\n'.format(image_date, x, y, area))\n",
    "    f.close()\n",
    "    "
   ]
  }
 ],
 "metadata": {
  "kernelspec": {
   "display_name": "Python 3",
   "language": "python",
   "name": "python3"
  },
  "language_info": {
   "codemirror_mode": {
    "name": "ipython",
    "version": 3
   },
   "file_extension": ".py",
   "mimetype": "text/x-python",
   "name": "python",
   "nbconvert_exporter": "python",
   "pygments_lexer": "ipython3",
   "version": "3.5.3"
  }
 },
 "nbformat": 4,
 "nbformat_minor": 1
}
