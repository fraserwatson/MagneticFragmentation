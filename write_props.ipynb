{
 "cells": [
  {
   "cell_type": "code",
   "execution_count": 1,
   "metadata": {
    "collapsed": true
   },
   "outputs": [],
   "source": [
    "def write_props(props, polarity, image_num, image_date, submap, bulk_path):\n",
    "    from astropy.coordinates import SkyCoord\n",
    "    import astropy.units as u\n",
    "    from sunpy.coordinates import frames\n",
    "    import numpy as np\n",
    "\n",
    "    # Set up variables for bulk props\n",
    "    total_frags = 0\n",
    "    total_area = 0\n",
    "    total_flux = 0\n",
    "    \n",
    "    # Create filename using the image_num and polarity\n",
    "    filename = '/Users/fraser/Github/MagneticFragmentation/fragment_properties/'+'{0}'.format(image_date.strftime('%Y%m%d_%H%M%S'))+'_'+polarity+'.txt'\n",
    "\n",
    "    # Open filename for writing\n",
    "    f = open(filename, 'w')\n",
    "\n",
    "    for region in props:\n",
    "        # Check to see if the area of the fragment is 12 pixels or larger\n",
    "        if region.area >= 12:\n",
    "            # Add one new fragment to the bulk fragment properties\n",
    "            total_frags += 1\n",
    "            # Get the pixel coordinates from the region.centroid and cast them as\n",
    "            # pixels in astropy units. Then, use the sunpy submap to convert those\n",
    "            # pixel coordinates to image coordinates (x-arcsecs and y-arcsecs)\n",
    "            arcsecs_coord = submap.pixel_to_world(region.centroid[1] * u.pix,\n",
    "                                                  region.centroid[0] * u.pix)\n",
    "            # Now convert the coordinates to Heliographic latitude and longitude as\n",
    "            # that is what we need to rotate coordinates in time later on\n",
    "            latlong_coord = arcsecs_coord.transform_to(frames.HeliographicStonyhurst)\n",
    "            # Record the area (area is NOT deprojected back onto the solar disk)\n",
    "            area = region.area\n",
    "            total_area += area\n",
    "            # Record the flux\n",
    "            flux = np.sum(region.intensity_image)\n",
    "            total_flux += flux\n",
    "\n",
    "            # Write the data to the file\n",
    "            f.write('{0}, {1:6.1f}, {2:6.1f}, {3:5.0f}\\n'.format(image_date,\n",
    "                                                         latlong_coord.lat.value,\n",
    "                                                         latlong_coord.lon.value,\n",
    "                                                         area))\n",
    "    # close the file\n",
    "    f.close()\n",
    "    \n",
    "    # Open bulk properties file for writing\n",
    "    g = open(bulk_path, 'a')\n",
    "    \n",
    "    g.write('{0}, {1:4.0f}, {2:5.0f}, {3:8.0f}\\n'.format(image_date, total_frags, total_area, total_flux))\n",
    "    \n",
    "    g.close()\n"
   ]
  }
 ],
 "metadata": {
  "kernelspec": {
   "display_name": "Python 3",
   "language": "python",
   "name": "python3"
  },
  "language_info": {
   "codemirror_mode": {
    "name": "ipython",
    "version": 3
   },
   "file_extension": ".py",
   "mimetype": "text/x-python",
   "name": "python",
   "nbconvert_exporter": "python",
   "pygments_lexer": "ipython3",
   "version": "3.5.4"
  }
 },
 "nbformat": 4,
 "nbformat_minor": 1
}
