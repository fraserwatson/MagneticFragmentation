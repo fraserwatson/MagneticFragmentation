{
 "cells": [
  {
   "cell_type": "code",
   "execution_count": null,
   "metadata": {
    "collapsed": true
   },
   "outputs": [],
   "source": [
    "def split_pol_thresh(data, threshold, polarity):\n",
    "    \n",
    "    # This function takes the input data along with a threshold, and returns the same data with everything below the \n",
    "    # threshold removed. In addition, if the data is negative, it is inverted so that the following routines can be \n",
    "    # run on positive and negative data interchangeably.\n",
    "    \n",
    "    import numpy as np\n",
    "    \n",
    "    output = np.copy(data)\n",
    "    \n",
    "    # Check polarity and invert if necessary\n",
    "    if polarity == 'pos':\n",
    "        pass\n",
    "    elif polarity == 'neg':\n",
    "        output = output * (-1)\n",
    "    else:\n",
    "        print('Polarity must be pos or neg.')\n",
    "    \n",
    "    # Set data below threshold to zero\n",
    "    output[output < threshold] = 0\n",
    "    \n",
    "    return output"
   ]
  }
 ],
 "metadata": {
  "kernelspec": {
   "display_name": "Python 3",
   "language": "python",
   "name": "python3"
  },
  "language_info": {
   "codemirror_mode": {
    "name": "ipython",
    "version": 3
   },
   "file_extension": ".py",
   "mimetype": "text/x-python",
   "name": "python",
   "nbconvert_exporter": "python",
   "pygments_lexer": "ipython3",
   "version": "3.5.1"
  }
 },
 "nbformat": 4,
 "nbformat_minor": 0
}
