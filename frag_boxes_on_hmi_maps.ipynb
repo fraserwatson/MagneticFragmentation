{
 "cells": [
  {
   "cell_type": "markdown",
   "metadata": {},
   "source": [
    "With this code I re-create images produced by MagneticFragmantentation and overplot the bounding boxes of the fragments, as well as the centroids of the bounding boxes, per magnetogram."
   ]
  },
  {
   "cell_type": "markdown",
   "metadata": {},
   "source": [
    "I need to reproduce the same image I made with Magnetic Fragmentation, with the same threshold. I then need to restore the properties I saved out and get the info about the position of the bounding boxes and the position of the centroids for each fragment. In the end, I want to plot the image and overplot the info of the bounding boxes."
   ]
  },
  {
   "cell_type": "markdown",
   "metadata": {},
   "source": [
    "Sidenote: Although data.date gives the 'date_obs' of the hmi, the hmi .fits file itself has been named according to 't_rec'.\n",
    "'t_rec' has a format of '2014.03.23_00:00:00_TAI'. If I want to convert this to datetime object I keep only the 20 first digits and convert: #date_meta=dateparser.parse(data.meta.get('t_rec')[0:19])"
   ]
  },
  {
   "cell_type": "markdown",
   "metadata": {},
   "source": [
    "Import required modules and set up matplotlib display properties. Set up variables."
   ]
  },
  {
   "cell_type": "code",
   "execution_count": null,
   "metadata": {},
   "outputs": [],
   "source": [
    "# astropy.units allows us to use physical units throughout the code and easily\n",
    "# perform calculations on them\n",
    "import astropy.units as u\n",
    "# sunpy.map handles the coordinates of the data we are using\n",
    "import sunpy.map\n",
    "from sunpy.coordinates import frames\n",
    "# numpy is a package that makes handling arrays much easier\n",
    "#import numpy as np\n",
    "# The SkyCoord object lets us convert between astronomical coordinate systems\n",
    "from astropy.coordinates import SkyCoord\n",
    "# matplotlib.pyplot is the standard plotting tool in python\n",
    "import matplotlib.pyplot as plt\n",
    "#importing csv module so I can read the output of write_props\n",
    "import csv\n",
    "from datetime import datetime\n",
    "#mac seems to need glod to get rid of the .DS store file\n",
    "import glob\n",
    "#Readsav reads IDL .dat files\n",
    "from scipy.io import readsav\n",
    "#Needs installation: http://dateparser.readthedocs.io/en/latest/index.html\n",
    "#It is very versatile but slows things down a lot\n",
    "import dateparser\n",
    "#Fraser's functions\n",
    "from rotate_long import rotate_long\n",
    "from window_corner_rotation import window_corner_rotation\n",
    "from datetime import timedelta    \n",
    "# The next three lines are for plotting in a Jupyter notebook\n",
    "# explanation of difference between: %matplotlib notebook and %matplotlib inline here:\n",
    "# https://github.com/matplotlib/matplotlib/issues/4879\n",
    "%matplotlib inline\n",
    "plt.rcParams['figure.figsize'] = 11, 11\n",
    "plt.rcParams.update({'font.size': 12})\n",
    "\n",
    "# Choose threshold. Magnetic fields under this level (Gauss) will be ignored\n",
    "threshold = 200 # Gauss \n",
    "\n",
    "act_region='AR12010'\n",
    "datapath = '/Users/dina/phd-mac/large_folders/Lucie_hmi_data/'\n",
    "main_path = '/Users/dina/phd-mac/large_folders/MagneticFragmentation_github/output/'\n",
    "fl_props_path_dat='/Users/dina/Dropbox/PhD/phd/work/year3/codes_yr3/mag_flux_project/mag_flux_flarelists/fl_ar12010_properties.dat'\n",
    "#whole region\n",
    "bottom_left =[-120, -50] \n",
    "top_right =[120, -230]\n",
    "images_path= main_path + 'bbox_boxes_flares_/'+str(threshold)+'G/'\n",
    "propspath= main_path +act_region+'_'+str(threshold)+'G_fragment_properties/'\n"
   ]
  },
  {
   "cell_type": "markdown",
   "metadata": {},
   "source": [
    "First I need a sunpy object. Load the path with the hmi .fits files."
   ]
  },
  {
   "cell_type": "code",
   "execution_count": null,
   "metadata": {},
   "outputs": [],
   "source": [
    "files_to_load=glob.glob(datapath+\"/*\")"
   ]
  },
  {
   "cell_type": "markdown",
   "metadata": {},
   "source": [
    "Load the path with the properties of fragments .txt files"
   ]
  },
  {
   "cell_type": "code",
   "execution_count": null,
   "metadata": {},
   "outputs": [],
   "source": [
    "props_to_load=glob.glob(propspath+\"/*\")"
   ]
  },
  {
   "cell_type": "markdown",
   "metadata": {},
   "source": [
    "Load the structure that contains information about all the RHESSI flares that happenned around the time the for loop will run later. "
   ]
  },
  {
   "cell_type": "code",
   "execution_count": null,
   "metadata": {},
   "outputs": [],
   "source": [
    "#This might help: https://docs.python.org/3.3/reference/lexical_analysis.html#string-literals\n",
    "f=readsav(fl_props_path_dat)\n",
    "\n",
    "#See which arrays I have saved inside f, not the data\n",
    "#[i for i in f]"
   ]
  },
  {
   "cell_type": "markdown",
   "metadata": {},
   "source": [
    "I need to load in the very first magnetogram. Its data and time will be stored. I will use this to transform the bottom left and top right points of the window from arcseconds to degrees as well as to perform differential rotation later."
   ]
  },
  {
   "cell_type": "code",
   "execution_count": null,
   "metadata": {
    "scrolled": false
   },
   "outputs": [],
   "source": [
    "filename =files_to_load[0]\n",
    "\n",
    "data = sunpy.map.Map(filename).rotate()\n",
    "initial_obs_time = data.date #it's a datetime object, gives the 'date_obs' of the hmi\n",
    "\n",
    "#transform pixel to arcseconds\n",
    "bl = SkyCoord(bottom_left_sub[0] * u.arcsec,\n",
    "              bottom_left_sub[1] * u.arcsec, frame=frames.Helioprojective, obstime=initial_obs_time)  \n",
    "tr = SkyCoord(top_right_sub[0] * u.arcsec,\n",
    "              top_right_sub[1] * u.arcsec, frame=frames.Helioprojective, obstime=initial_obs_time) \n",
    "#transform arcseconds to degrees\n",
    "bl_stonyhurst = bl.transform_to(frames.HeliographicStonyhurst)\n",
    "tr_stonyhurst = tr.transform_to(frames.HeliographicStonyhurst)"
   ]
  },
  {
   "cell_type": "code",
   "execution_count": null,
   "metadata": {
    "scrolled": false
   },
   "outputs": [],
   "source": [
    "#For loop for all magnetograms\n",
    "for image in range(59,65):#len(files_to_load)):\n",
    "    print(image)\n",
    "    # Create the full filepath of the FITS file\n",
    "    filename =files_to_load[image] #if I use glob\n",
    "\n",
    "    # Pull out the data into a rotated,in an angle according to the hmi header, SunPy map\n",
    "    data = sunpy.map.Map(filename).rotate()\n",
    "    \n",
    "    # Transform the initial window coordinates into lat/long coordinates at the time of this image\n",
    "    # Calculate the timedifference in the form [days.fraction_of_day] from the original image in days\n",
    "    # The brackets at total_seconds() indicate that this is a function attached to the variable\n",
    "    timediff = (data.date - initial_obs_time).total_seconds()/86400\n",
    "    [bl, tr] = window_corner_rotation(bl_stonyhurst, tr_stonyhurst, timediff, data.date) \n",
    "\n",
    "    # Create a submap using those coordinates\n",
    "    submap_area = data.submap(bl, tr)\n",
    "    \n",
    "    #I want to load the correct fragment properties file, for the fragments with negative and positive flux.\n",
    "    #To do this I use the 'date-obs' from the hmi header, which is given from the data.date\n",
    "    #I convert this to the exact format the properties files have been stored.\n",
    "    neg_properties=propspath+'{0}'.format(data.date.strftime('%Y%m%d_%H%M%S'))+'_n.txt'\n",
    "    pos_properties=propspath+'{0}'.format(data.date.strftime('%Y%m%d_%H%M%S'))+'_p.txt'\n",
    "    \n",
    "    #I define new arrays to read in what I want to use later.\n",
    "    #Here, the latitide and longitude of the centroids of the fragments (in degrees)\n",
    "    #and the 4 outer points of the bounding box of each fragment:\n",
    "    #bb_min_row,bb_max_row, bb_max_col, bb_max_row (in degress).\n",
    "    nc_lat=[]\n",
    "    nc_lng=[]\n",
    "    n_x_min=[]\n",
    "    n_y_min=[]\n",
    "    n_x_max=[]\n",
    "    n_y_max=[]\n",
    "    \n",
    "    #read the properties in, if they exist. Else move on with the loop.\n",
    "    my_file = Path(neg_properties)\n",
    "    if my_file.is_file():\n",
    "        with open(neg_properties,'r') as neg:\n",
    "            filereader = csv.reader(neg, delimiter=',')\n",
    "            for column in filereader:\n",
    "                nc_lat.append(float(column[1])) #latitude of centroids \n",
    "                nc_lng.append(float(column[2])) #longitude of centroids \n",
    "                n_x_min.append(float(column[5])) #xmin of bounding box \n",
    "                n_y_min.append(float(column[6])) #ymin of bounding box\n",
    "                n_x_max.append(float(column[7])) #xmax of bounding box \n",
    "                n_y_max.append(float(column[8])) #ymax of bounding box \n",
    "    else:\n",
    "        continue\n",
    "            \n",
    "    \n",
    "    pc_lat=[] \n",
    "    pc_lng=[]\n",
    "    p_x_min=[]\n",
    "    p_y_min=[]\n",
    "    p_x_max=[]\n",
    "    p_y_max=[]\n",
    "    \n",
    "    with open(pos_properties,'r') as pos:\n",
    "        filereader = csv.reader(pos, delimiter=',')\n",
    "        for column in filereader:\n",
    "            pc_lat.append(float(column[1]))\n",
    "            pc_lng.append(float(column[2]))  \n",
    "            p_x_min.append(float(column[5]))\n",
    "            p_y_min.append(float(column[6]))\n",
    "            p_x_max.append(float(column[7]))\n",
    "            p_y_max.append(float(column[8]))\n",
    "    \n",
    "            \n",
    "    #From the flares I loaded before, I want only the ones that happened around the time of each hmi magnetogram   \n",
    "    fl_lat_sel=[]\n",
    "    fl_lng_sel=[]\n",
    "    fl_stim_sel=[]\n",
    "    fl_ptim_sel = []\n",
    "    fl_etim_sel = []\n",
    "    fl_bsgclass_sel = []\n",
    "    for i in range(len(f.fl_stim)):\n",
    "        #Look at the time period \n",
    "        #[stim-time between two consecutive magnetograms,etim+time between two consecutive magnetograms]\n",
    "        if dateparser.parse(str(f.fl_stim[i])) >= data.date-timedelta(minutes=24)\\\n",
    "        and dateparser.parse(str(f.fl_etim[i])) <= data.date+timedelta(minutes=24):\n",
    "            fl_lat_sel.append(f.fl_lat[i])\n",
    "            fl_lng_sel.append(f.fl_lng[i])\n",
    "            fl_stim_sel.append(f.fl_stim[i])\n",
    "            fl_ptim_sel.append(f.fl_ptim[i])\n",
    "            fl_etim_sel.append(f.fl_etim[i])\n",
    "            fl_bsgclass_sel.append(f.fl_bsgclass[i])\n",
    "\n",
    "     #Plot out a map and save it\n",
    "    \n",
    "    #Plot the submap\n",
    "    ax=plt.subplot(projection=submap_area)\n",
    "    submap_area.plot()\n",
    "    ax.set_autoscale_on(False) \n",
    "   \n",
    "    #Overplot the bounding boxes  \n",
    "    #The overpolotting on the boxes is in helioprojectve coordinates.\n",
    "    #Explanation: Centroids and flares are considered as points on the map and therefore are in Stonyhurst.\n",
    "    #The boxes are considered as projected in the sky, so they are on helioprojective coordinates.\n",
    "    hpc_out=sunpy.coordinates.Helioprojective(observer=\"earth\", obstime=submap_area.date)\n",
    "\n",
    "    for j in range(0,1):#len(n_x_min)):\n",
    "        bottom_left_frag = SkyCoord(n_x_min[j]* u.deg, n_y_min[j]* u.deg, frame=\"heliographic_stonyhurst\")\n",
    "        top_right_frag = SkyCoord(n_x_max[j]* u.deg, n_y_max[j]* u.deg, frame=\"heliographic_stonyhurst\")\n",
    "        \n",
    "        blf_p=bottom_left_frag.transform_to(hpc_out)\n",
    "        trf_p=top_right_frag.transform_to(hpc_out)\n",
    "        width=abs(blf_p.Tx.value-trf_p.Tx.value)\n",
    "        height=abs(blf_p.Ty.value-trf_p.Ty.value)\n",
    "        \n",
    "        submap_area.draw_rectangle(top_right_frag, width*u.arcsec, height*u.arcsec,color='y')\n",
    "        \n",
    "    for j in range(0,1):#len(p_x_min)):\n",
    "        bottom_left_frag = SkyCoord(p_x_min[j]* u.deg, p_y_min[j]* u.deg, frame=\"heliographic_stonyhurst\")\n",
    "        top_right_frag = SkyCoord(p_x_max[j]* u.deg, p_y_max[j]* u.deg, frame=\"heliographic_stonyhurst\")\n",
    "        \n",
    "        blf_p=bottom_left_frag.transform_to(hpc_out)\n",
    "        trf_p=top_right_frag.transform_to(hpc_out)\n",
    "        #The width will be the angle theta on the horisontal plane field of the sky\n",
    "        width=abs(blf_p.Tx.value-trf_p.Tx.value)\n",
    "        #The height will be the angle theta on the vertical plane field of the sky\n",
    "        height=abs(blf_p.Ty.value-trf_p.Ty.value)\n",
    "        \n",
    "        submap_area.draw_rectangle(top_right_frag, width*u.arcsec, height*u.arcsec,color='b')\n",
    "            \n",
    "        \n",
    "    #Overplot the centroids\n",
    "    c = SkyCoord(nc_lng * u.deg, nc_lat* u.deg, frame=\"heliographic_stonyhurst\")\n",
    "    ax.plot_coord(c, 'yx')\n",
    "\n",
    "    c = SkyCoord(pc_lng * u.deg, pc_lat * u.deg, frame=\"heliographic_stonyhurst\")\n",
    "    ax.plot_coord(c, 'bx')\n",
    "   \n",
    "    #Overplot the flares\n",
    "    c = SkyCoord(fl_lng_sel * u.deg, fl_lat_sel * u.deg, frame=\"heliographic_stonyhurst\")\n",
    "    ax.plot_coord(c, 'ro', markersize=14)\n",
    "\n",
    "#     imagefilename = images_path + 'HMI_bboxes_'+str(threshold)+'G_' + str(image).zfill(4)\n",
    "#     plt.savefig(imagefilename)\n",
    "#     plt.clf()"
   ]
  },
  {
   "cell_type": "code",
   "execution_count": null,
   "metadata": {},
   "outputs": [],
   "source": []
  }
 ],
 "metadata": {
  "kernelspec": {
   "display_name": "Python 3",
   "language": "python",
   "name": "python3"
  },
  "language_info": {
   "codemirror_mode": {
    "name": "ipython",
    "version": 3
   },
   "file_extension": ".py",
   "mimetype": "text/x-python",
   "name": "python",
   "nbconvert_exporter": "python",
   "pygments_lexer": "ipython3",
   "version": "3.6.4"
  }
 },
 "nbformat": 4,
 "nbformat_minor": 2
}
