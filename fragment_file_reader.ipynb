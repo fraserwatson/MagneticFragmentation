{
 "cells": [
  {
   "cell_type": "code",
   "execution_count": null,
   "metadata": {
    "collapsed": true
   },
   "outputs": [],
   "source": [
    "def fragment_file_reader(file):\n",
    "    \n",
    "    # This function takes a file containing fragment data for a single\n",
    "    # image and reads out the data into arrays of the correct format.\n",
    "    # If the write_props function is changed to add more properties to the files,\n",
    "    # this function has to be changed to read those files.\n",
    "    \n",
    "    import csv\n",
    "    from datetime import datetime\n",
    "\n",
    "    # Initialize variables for dates, latitudes, and longitudes\n",
    "    dates = []\n",
    "    latitudes = []\n",
    "    longitudes = []\n",
    "\n",
    "    # Open file and return arrays for dates (as datetime), latitudes (as float) and longitudes (as float)\n",
    "    with open(file, 'r') as csvfile:\n",
    "        filereader = csv.reader(csvfile, delimiter=',')\n",
    "        for row in filereader:\n",
    "            dates.append(datetime.strptime(row[0], '%Y-%m-%d %H:%M:%S.%f'))\n",
    "            latitudes.append(float(row[1]))\n",
    "            longitudes.append(float(row[2]))\n",
    "    \n",
    "    return [dates, latitudes, longitudes]"
   ]
  }
 ],
 "metadata": {
  "kernelspec": {
   "display_name": "Python 3",
   "language": "python",
   "name": "python3"
  },
  "language_info": {
   "codemirror_mode": {
    "name": "ipython",
    "version": 3
   },
   "file_extension": ".py",
   "mimetype": "text/x-python",
   "name": "python",
   "nbconvert_exporter": "python",
   "pygments_lexer": "ipython3",
   "version": "3.5.4"
  }
 },
 "nbformat": 4,
 "nbformat_minor": 2
}
