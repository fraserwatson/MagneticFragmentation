{
 "cells": [
  {
   "cell_type": "code",
   "execution_count": 1,
   "metadata": {},
   "outputs": [],
   "source": [
    "def rotate_long(lat, long, timestep):\n",
    "    \n",
    "    # Converts a solar longitude into a new \n",
    "    # longitude at a different time given solar rotation\n",
    "    # timestep is the time delta, in earth days\n",
    "    \n",
    "    import numpy as np\n",
    "    \n",
    "    # Convert latitude into radians\n",
    "    latrad = np.deg2rad(lat)\n",
    "    \n",
    "    # Calculate rotation in given number of days\n",
    "    rotation = 0.000001 * timestep * (2.894 - (0.428 * np.power((np.sin(latrad)), 2)) - (0.37 * np.power(np.sin(latrad), 4))) * 24 * np.rad2deg(3600)   \n",
    "    \n",
    "    newlat = lat\n",
    "    newlong = long + rotation\n",
    "    \n",
    "    return [newlat, newlong]"
   ]
  }
 ],
 "metadata": {
  "kernelspec": {
   "display_name": "Python 3",
   "language": "python",
   "name": "python3"
  },
  "language_info": {
   "codemirror_mode": {
    "name": "ipython",
    "version": 3
   },
   "file_extension": ".py",
   "mimetype": "text/x-python",
   "name": "python",
   "nbconvert_exporter": "python",
   "pygments_lexer": "ipython3",
   "version": "3.5.4"
  }
 },
 "nbformat": 4,
 "nbformat_minor": 2
}
