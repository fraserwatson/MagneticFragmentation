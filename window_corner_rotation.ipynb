{
 "cells": [
  {
   "cell_type": "code",
   "execution_count": null,
   "metadata": {},
   "outputs": [],
   "source": [
    "def window_corner_rotation(bl_stonyhurst, tr_stonyhurst, timedelta, time):\n",
    "    \n",
    "    from rotate_long import rotate_long\n",
    "    from astropy.coordinates import SkyCoord\n",
    "    import astropy.units as u\n",
    "    from sunpy.coordinates import frames\n",
    "    \n",
    "    # Bottom left corner\n",
    "    [bl_rot_lat, bl_rot_lon] = rotate_long(bl_stonyhurst.lat.value, bl_stonyhurst.lon.value, timedelta)\n",
    "    bl_coord = SkyCoord(bl_rot_lon*u.deg, bl_rot_lat*u.deg, frame=frames.HeliographicStonyhurst, obstime=time)\n",
    "    bl_arcsecs = bl_coord.transform_to(frames.Helioprojective)\n",
    "    \n",
    "    # Top right corner\n",
    "    [tr_rot_lat, tr_rot_lon] = rotate_long(tr_stonyhurst.lat.value, tr_stonyhurst.lon.value, timedelta)\n",
    "    tr_coord = SkyCoord(tr_rot_lon*u.deg, tr_rot_lat*u.deg, frame=frames.HeliographicStonyhurst, obstime=time)\n",
    "    tr_arcsecs = tr_coord.transform_to(frames.Helioprojective)\n",
    "    \n",
    "    return [bl_arcsecs, tr_arcsecs]"
   ]
  }
 ],
 "metadata": {
  "kernelspec": {
   "display_name": "Python 3",
   "language": "python",
   "name": "python3"
  },
  "language_info": {
   "codemirror_mode": {
    "name": "ipython",
    "version": 3
   },
   "file_extension": ".py",
   "mimetype": "text/x-python",
   "name": "python",
   "nbconvert_exporter": "python",
   "pygments_lexer": "ipython3",
   "version": "3.5.4"
  }
 },
 "nbformat": 4,
 "nbformat_minor": 2
}
